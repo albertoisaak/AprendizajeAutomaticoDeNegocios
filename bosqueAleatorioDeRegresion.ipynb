{
 "cells": [
  {
   "cell_type": "markdown",
   "metadata": {},
   "source": [
    "Bosque aleatorio de regresión\n",
    "Si lo piensas, bosque aleatorio es un nombre lindo... En fin, sigamos con el entrenamiento de un modelo de bosque aleatorio para regresión.\n",
    "\n",
    "El bosque aleatorio de regresión no difiere mucho del de clasificación. Lo que hace es entrenar a un grupo de árboles independientes y luego promedia sus respuestas para tomar una decisión."
   ]
  },
  {
   "cell_type": "markdown",
   "metadata": {},
   "source": [
    "Selecciona 25% de los datos para la muestra de validación (prueba), lo demás será para el entrenamiento.\n",
    "Extrae características y objetivos para el entrenamiento y la validación. Para conseguir objetivos, selecciona la columna 'last_price' y divídela entre 100000. La característica son todas las columnas excepto por la columna 'last_price'.\n",
    "Entrena modelos de bosque aleatorio para el problema de regresión:\n",
    "con el número de árboles: de 10 a 50, en intervalos de 10,\n",
    "con una profundidad máxima de 1 a 10.\n",
    "Para cada modelo, calcula la RECM en el conjunto de validación y guárdalo en la variable error.\n",
    "Para calcular la métrica RECM, toma el valor de la raíz cuadrada del ECM:\n",
    "\n",
    "    mean_squared_error(target_valid, predictions_valid)**0.5\n",
    "    \n",
    "El código se puede ejecutar durante cerca de un minuto. Esto es normal porque estás entrenando 50 modelos."
   ]
  },
  {
   "cell_type": "code",
   "execution_count": 5,
   "metadata": {},
   "outputs": [
    {
     "name": "stdout",
     "output_type": "stream",
     "text": [
      "Validación RECM para los n_estimators de 10 , depth= 1 is 2.3960212238796124\n",
      "Validación RECM para los n_estimators de 10 , depth= 2 is 2.1122446639688435\n",
      "Validación RECM para los n_estimators de 10 , depth= 3 is 1.9740959499997468\n",
      "Validación RECM para los n_estimators de 10 , depth= 4 is 1.8427098576557455\n",
      "Validación RECM para los n_estimators de 10 , depth= 5 is 1.784417875686694\n",
      "Validación RECM para los n_estimators de 10 , depth= 6 is 1.8702209720173095\n",
      "Validación RECM para los n_estimators de 10 , depth= 7 is 1.793159121509078\n",
      "Validación RECM para los n_estimators de 10 , depth= 8 is 1.7468096998889795\n",
      "Validación RECM para los n_estimators de 10 , depth= 9 is 1.7954034348723085\n",
      "Validación RECM para los n_estimators de 10 , depth= 10 is 1.7286012808251683\n",
      "Validación RECM para los n_estimators de 20 , depth= 1 is 2.385864337512238\n",
      "Validación RECM para los n_estimators de 20 , depth= 2 is 2.114680438966696\n",
      "Validación RECM para los n_estimators de 20 , depth= 3 is 1.9852473762330758\n",
      "Validación RECM para los n_estimators de 20 , depth= 4 is 1.9033912628930718\n",
      "Validación RECM para los n_estimators de 20 , depth= 5 is 1.856997851621303\n",
      "Validación RECM para los n_estimators de 20 , depth= 6 is 1.8250027836267546\n",
      "Validación RECM para los n_estimators de 20 , depth= 7 is 1.734104553475037\n",
      "Validación RECM para los n_estimators de 20 , depth= 8 is 1.7600977423409117\n",
      "Validación RECM para los n_estimators de 20 , depth= 9 is 1.7490020419389485\n",
      "Validación RECM para los n_estimators de 20 , depth= 10 is 1.7329422274174873\n",
      "Validación RECM para los n_estimators de 30 , depth= 1 is 2.3699493863231695\n",
      "Validación RECM para los n_estimators de 30 , depth= 2 is 2.0992551483640454\n",
      "Validación RECM para los n_estimators de 30 , depth= 3 is 1.9781820690170426\n",
      "Validación RECM para los n_estimators de 30 , depth= 4 is 1.917102290123685\n",
      "Validación RECM para los n_estimators de 30 , depth= 5 is 1.8722302686819876\n",
      "Validación RECM para los n_estimators de 30 , depth= 6 is 1.824387314301558\n",
      "Validación RECM para los n_estimators de 30 , depth= 7 is 1.7716174496210542\n",
      "Validación RECM para los n_estimators de 30 , depth= 8 is 1.7565807161408504\n",
      "Validación RECM para los n_estimators de 30 , depth= 9 is 1.7643392521885661\n",
      "Validación RECM para los n_estimators de 30 , depth= 10 is 1.722708113461008\n",
      "Validación RECM para los n_estimators de 40 , depth= 1 is 2.3982305588099453\n",
      "Validación RECM para los n_estimators de 40 , depth= 2 is 2.1016265917767525\n",
      "Validación RECM para los n_estimators de 40 , depth= 3 is 1.988383643555704\n",
      "Validación RECM para los n_estimators de 40 , depth= 4 is 1.931586227717903\n",
      "Validación RECM para los n_estimators de 40 , depth= 5 is 1.8731097237946743\n",
      "Validación RECM para los n_estimators de 40 , depth= 6 is 1.833248780769441\n",
      "Validación RECM para los n_estimators de 40 , depth= 7 is 1.7877778529360793\n",
      "Validación RECM para los n_estimators de 40 , depth= 8 is 1.7837700341752447\n",
      "Validación RECM para los n_estimators de 40 , depth= 9 is 1.7711199191904954\n",
      "Validación RECM para los n_estimators de 40 , depth= 10 is 1.7278369899361194\n",
      "Validación RECM para los n_estimators de 50 , depth= 1 is 2.3714687109562695\n",
      "Validación RECM para los n_estimators de 50 , depth= 2 is 2.100286153891176\n",
      "Validación RECM para los n_estimators de 50 , depth= 3 is 1.9822059638620553\n",
      "Validación RECM para los n_estimators de 50 , depth= 4 is 1.9311502876246265\n",
      "Validación RECM para los n_estimators de 50 , depth= 5 is 1.8375705469858354\n",
      "Validación RECM para los n_estimators de 50 , depth= 6 is 1.83046087629318\n",
      "Validación RECM para los n_estimators de 50 , depth= 7 is 1.7744481069736942\n",
      "Validación RECM para los n_estimators de 50 , depth= 8 is 1.7584393812718002\n",
      "Validación RECM para los n_estimators de 50 , depth= 9 is 1.7579169873400218\n",
      "Validación RECM para los n_estimators de 50 , depth= 10 is 1.7188466871203607\n",
      "RECM del mejor modelo en el conjunto de validación: 1.7188466871203607 n_estimators: 50 best_depth: 10\n"
     ]
    }
   ],
   "source": [
    "import pandas as pd\n",
    "from sklearn.ensemble import RandomForestRegressor\n",
    "from sklearn.model_selection import train_test_split\n",
    "from sklearn.metrics import mean_squared_error\n",
    "\n",
    "df = pd.read_csv('datasets/moved_train_data_us.csv')\n",
    "\n",
    "df_train, df_valid = train_test_split(df, random_state=54321, test_size = 0.25) # haz la división de datos para el entrenamiento y la validación\n",
    "\n",
    "#Extraer características y objetivos\n",
    "features_train = df_train.drop(['last_price'], axis=1)\n",
    "target_train = df_train['last_price'] / 100000  # Normalizar la columna objetivo\n",
    "features_valid = df_valid.drop(['last_price'], axis=1)\n",
    "target_valid = df_valid['last_price'] / 100000  # Normalizar la columna objetivo\n",
    "\n",
    "best_error = 10000 # configura el inicio de RECM\n",
    "best_est = 0\n",
    "best_depth = 0\n",
    "for est in range(10, 51, 10):\n",
    "    for depth in range (1, 11):\n",
    "        model = model = RandomForestRegressor(random_state=54321, n_estimators=est, max_depth=depth) # inicializa el constructor de modelos con los parámetros random_state=54321, n_estimators=est y max_depth=depth\n",
    "        model.fit(features_train, target_train) # entrena el modelo en el conjunto de entrenamiento\n",
    "        predictions_valid = model.predict(features_valid) # obtén las predicciones del modelo en el conjunto de validación\n",
    "        error = mean_squared_error(target_valid,predictions_valid)** 0.5 # calcula la RECM en el conjunto de validación\n",
    "        print(\"Validación RECM para los n_estimators de\", est, \", depth=\", depth, \"is\", error)\n",
    "        if error < best_error: # guardamos la configuración del modelo si se logra el error más bajo\n",
    "            best_error = error\n",
    "            best_est = est\n",
    "            best_depth = depth\n",
    "\n",
    "print(\"RECM del mejor modelo en el conjunto de validación:\", best_error, \"n_estimators:\", best_est, \"best_depth:\", best_depth)"
   ]
  }
 ],
 "metadata": {
  "kernelspec": {
   "display_name": "Python 3",
   "language": "python",
   "name": "python3"
  },
  "language_info": {
   "codemirror_mode": {
    "name": "ipython",
    "version": 3
   },
   "file_extension": ".py",
   "mimetype": "text/x-python",
   "name": "python",
   "nbconvert_exporter": "python",
   "pygments_lexer": "ipython3",
   "version": "3.12.5"
  }
 },
 "nbformat": 4,
 "nbformat_minor": 2
}
