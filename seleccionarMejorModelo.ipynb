{
 "cells": [
  {
   "cell_type": "markdown",
   "metadata": {},
   "source": [
    "**Seleccionar el mejor modelo**\n",
    "\n",
    "Hemos entrenado un árbol de decisión, un bosque aleatorio y una regresión lineal. ¿Cuál es el mejor modelo?\n",
    "A estas alturas, probablemente ya tengas una idea de cuál de los tres modelos de regresión funciona mejor para nuestro ejercicio. Si aún no lo tienes claro, repasa las tres lecciones anteriores y compara los valores del RMSE para el conjunto de validación de los modelos que mejor desempeño mostraron. Escoge un modelo, configura sus hiperparámetros con valores que demostraron ser óptimos y entrénalo para una prueba final.\n",
    "\n",
    "Usa todo el dataset fuente para entrenar el modelo que escogiste. Cuantos más datos haya, mejor. Ya no necesitamos mantener separado el conjunto de validación porque ya escogimos el modelo más adecuado y ajustamos sus hiperparámetros."
   ]
  },
  {
   "cell_type": "code",
   "execution_count": null,
   "metadata": {},
   "outputs": [
    {
     "name": "stdout",
     "output_type": "stream",
     "text": [
      "0.6024369705589249\n"
     ]
    }
   ],
   "source": [
    "import pandas as pd\n",
    "from sklearn.metrics import mean_squared_error\n",
    "from sklearn.ensemble import RandomForestRegressor\n",
    "\n",
    "df = pd.read_csv('datasets/moved_train_data_us.csv')\n",
    "\n",
    "features = df.drop(['last_price'], axis=1)\n",
    "target = df['last_price'] / 100000\n",
    "\n",
    "final_model = RandomForestRegressor(random_state=54321, n_estimators=40)\n",
    "final_model.fit(features, target)\n",
    "\n",
    "predictions = final_model.predict(features) \n",
    " \n",
    "   \n",
    "\n",
    "\n",
    "\n",
    "\n",
    "result = mean_squared_error(target, predictions)**0.5 \n",
    "print(result)\n",
    "\n"
   ]
  },
  {
   "cell_type": "markdown",
   "metadata": {},
   "source": []
  }
 ],
 "metadata": {
  "kernelspec": {
   "display_name": "Python 3",
   "language": "python",
   "name": "python3"
  },
  "language_info": {
   "codemirror_mode": {
    "name": "ipython",
    "version": 3
   },
   "file_extension": ".py",
   "mimetype": "text/x-python",
   "name": "python",
   "nbconvert_exporter": "python",
   "pygments_lexer": "ipython3",
   "version": "3.12.5"
  }
 },
 "nbformat": 4,
 "nbformat_minor": 2
}
