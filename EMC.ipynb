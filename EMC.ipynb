{
 "cells": [
  {
   "attachments": {
    "image.png": {
     "image/png": "[encoded data removed]"
    }
   },
   "cell_type": "markdown",
   "metadata": {},
   "source": [
    "**Calcular el EMC**\n",
    "\n",
    "Vamos a automatizar el cálculo del EMC.\n",
    "\n",
    "¿Cómo calculaste el EMC en el ejercicio pasado? ¿Lo hiciste manualmente con una calculadora o programaste un sencillo programa en Python?\n",
    "\n",
    "Automatiza este cálculo:\n",
    "\n",
    "![image.png](attachment:image.png)"
   ]
  },
  {
   "cell_type": "markdown",
   "metadata": {},
   "source": [
    "**Error cuadrático medio (MSE)** \n",
    "Glosario de visión artificial de Encord\n",
    "\n",
    "En los campos del análisis de regresión y el aprendizaje automático, el error cuadrático medio (MSE) es una métrica crucial para evaluar el rendimiento de los modelos predictivos. Mide la diferencia cuadrática media entre los valores previstos y los valores objetivo reales dentro de un conjunto de datos. El objetivo principal del MSE es evaluar la calidad de las predicciones de un modelo midiendo en qué medida se alinean con la realidad básica."
   ]
  },
  {
   "cell_type": "markdown",
   "metadata": {},
   "source": [
    "\n",
    "1.\n",
    "\n",
    "Escribe una función mse(). Debe tomar respuestas correctas y predicciones y devolver el valor del error cuadrático medio."
   ]
  },
  {
   "cell_type": "code",
   "execution_count": 1,
   "metadata": {},
   "outputs": [
    {
     "name": "stdout",
     "output_type": "stream",
     "text": [
      "14249.25\n"
     ]
    }
   ],
   "source": [
    "def mse(answers, predictions):\n",
    "    # Calcula el error cuadrático medio\n",
    "    emc = sum((a - p) ** 2 for a, p in zip(answers, predictions)) / len(answers)\n",
    "    return emc\n",
    "\n",
    "answers = [623, 253, 150, 237]\n",
    "predictions = [649, 253, 370, 148]\n",
    "\n",
    "print(mse(answers, predictions))\n"
   ]
  },
  {
   "cell_type": "markdown",
   "metadata": {},
   "source": [
    "También hay una función para calcular el EMC en sklearn.\n",
    "\n",
    "Busca en la documentación el nombre de la función y cómo opera. Impórtala y resuelve el mismo problema. Imprime en la pantalla el valor del EMC.\n",
    "\n",
    "Aquí puedes encontrar la documentación de la librería sklearn: https://scikit-learn.org/stable/modules/classes.html. Si pierdes el vínculo, haz una búsqueda con \"sklearn reference\" como frase clave."
   ]
  },
  {
   "cell_type": "code",
   "execution_count": 3,
   "metadata": {},
   "outputs": [
    {
     "name": "stdout",
     "output_type": "stream",
     "text": [
      "El Error Medio Cuadrático es: 14249.25\n"
     ]
    }
   ],
   "source": [
    "from sklearn.metrics import mean_squared_error\n",
    "\n",
    "# Valores reales\n",
    "answers = [623, 253, 150, 237]\n",
    "\n",
    "# Valores predichos\n",
    "predictions = [649, 253, 370, 148]\n",
    "\n",
    "# Cálculo del EMC\n",
    "emc = mean_squared_error(answers, predictions)\n",
    "\n",
    "# Impresión del resultado\n",
    "print(f\"El Error Medio Cuadrático es: {emc}\")"
   ]
  },
  {
   "cell_type": "markdown",
   "metadata": {},
   "source": [
    "*Interpretación del ECM*\n",
    "\n",
    "Para hacer la prueba de cordura al modelo para buscar problemas de clasificación necesitamos comparar sus predicciones con posibilidad aleatoria. ¿Cómo se hace una prueba de cordura para un modelo de regresión?\n",
    "\n",
    "Darle la misma respuesta a todas las observaciones es un método simple de predicción de regresión. Vamos a usar el valor promedio del precio del apartamento para estar más cerca de la realidad."
   ]
  },
  {
   "cell_type": "markdown",
   "metadata": {},
   "source": [
    "Interpretación del ECM\n",
    "\n",
    "Ejercicio 1\n",
    "Prepara los datos y encuentra el precio promedio.\n",
    "\n",
    "Declara la variable features con todas las características excepto last_price.\n",
    "Declara la variable target con last_price como objetivo.\n",
    "Calcula el valor promedio para los elementos de la variable target.\n",
    "Imprime el resultado como se muestra:"
   ]
  },
  {
   "cell_type": "code",
   "execution_count": null,
   "metadata": {},
   "outputs": [],
   "source": [
    "import pandas as pd\n",
    "from sklearn.metrics import mean_squared_error\n",
    "\n",
    "# Cargar los datos\n",
    "df = pd.read_csv('/datasets/train_data_us.csv')\n",
    "\n",
    "# Crear la variable features (todas las columnas excepto 'last_price') y target ('last_price')\n",
    "features = df.drop(columns=['last_price'])\n",
    "target = df['last_price']\n",
    "\n",
    "# Calcular el promedio del precio\n",
    "average_price = target.mean()\n",
    "\n",
    "# Imprimir el resultado\n",
    "print(f\"Average price: {average_price:.2f}\")"
   ]
  },
  {
   "cell_type": "markdown",
   "metadata": {},
   "source": [
    "2.\n",
    "\n",
    "Calcula el ECM para el conjunto de entrenamiento usando el precio promedio como valor de predicción.\n",
    "\n",
    "Imprime el resultado como se muestra:\n",
    "\n",
    "MSE: ...\n",
    "La función mean_squared_error() en scikit-learn tiene su maña. Tendrás que pasar unos minutos leyendo la documentación o consultar Stack Overflow.\n",
    "\n",
    "En el precódigo, dividimos los precios entre 100 000 con el propósito de evitar números grandes."
   ]
  },
  {
   "cell_type": "code",
   "execution_count": null,
   "metadata": {},
   "outputs": [],
   "source": [
    "import pandas as pd\n",
    "from sklearn.metrics import mean_squared_error\n",
    "\n",
    "# Cargar los datos\n",
    "df = pd.read_csv('/datasets/train_data_us.csv')\n",
    "\n",
    "# Preparar las características y el objetivo\n",
    "features = df.drop(['last_price'], axis=1)\n",
    "target = df['last_price'] / 100000\n",
    "\n",
    "# Calcular el precio promedio\n",
    "average_price = target.mean()\n",
    "\n",
    "# Crear las predicciones con el precio promedio\n",
    "predictions = [average_price] * len(target)\n",
    "\n",
    "# Calcular el ECM\n",
    "mse = mean_squared_error(target, predictions)\n",
    "\n",
    "# Imprimir el resultado\n",
    "print('MSE:', mse)"
   ]
  }
 ],
 "metadata": {
  "kernelspec": {
   "display_name": "Python 3",
   "language": "python",
   "name": "python3"
  },
  "language_info": {
   "codemirror_mode": {
    "name": "ipython",
    "version": 3
   },
   "file_extension": ".py",
   "mimetype": "text/x-python",
   "name": "python",
   "nbconvert_exporter": "python",
   "pygments_lexer": "ipython3",
   "version": "3.12.5"
  }
 },
 "nbformat": 4,
 "nbformat_minor": 2
}
