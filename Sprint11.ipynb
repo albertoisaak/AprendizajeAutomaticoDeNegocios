{
 "cells": [
  {
   "cell_type": "markdown",
   "metadata": {},
   "source": [
    "Sprint 11 - Proyecto\n",
    "\n",
    "Descripción del proyecto\n",
    "Trabajas en la compañía de extracción de petróleo OilyGiant. Tu tarea es encontrar los mejores lugares donde abrir 200 pozos nuevos de petróleo.\n",
    "\n",
    "Para completar esta tarea, tendrás que realizar los siguientes pasos:\n",
    "\n",
    "Leer los archivos con los parámetros recogidos de pozos petrolíferos en la región seleccionada: calidad de crudo y volumen de reservas.\n",
    "Crear un modelo para predecir el volumen de reservas en pozos nuevos.\n",
    "Elegir los pozos petrolíferos que tienen los valores estimados más altos.\n",
    "Elegir la región con el beneficio total más alto para los pozos petrolíferos seleccionados."
   ]
  },
  {
   "cell_type": "markdown",
   "metadata": {},
   "source": [
    "Instrucciones del proyecto\n",
    "Descarga y prepara los datos. Explica el procedimiento."
   ]
  },
  {
   "cell_type": "code",
   "execution_count": 11,
   "metadata": {},
   "outputs": [
    {
     "data": {
      "text/html": [
       "<div>\n",
       "<style scoped>\n",
       "    .dataframe tbody tr th:only-of-type {\n",
       "        vertical-align: middle;\n",
       "    }\n",
       "\n",
       "    .dataframe tbody tr th {\n",
       "        vertical-align: top;\n",
       "    }\n",
       "\n",
       "    .dataframe thead th {\n",
       "        text-align: right;\n",
       "    }\n",
       "</style>\n",
       "<table border=\"1\" class=\"dataframe\">\n",
       "  <thead>\n",
       "    <tr style=\"text-align: right;\">\n",
       "      <th></th>\n",
       "      <th>id</th>\n",
       "      <th>f0</th>\n",
       "      <th>f1</th>\n",
       "      <th>f2</th>\n",
       "      <th>product</th>\n",
       "    </tr>\n",
       "  </thead>\n",
       "  <tbody>\n",
       "    <tr>\n",
       "      <th>0</th>\n",
       "      <td>txEyH</td>\n",
       "      <td>0.705745</td>\n",
       "      <td>-0.497823</td>\n",
       "      <td>1.221170</td>\n",
       "      <td>105.280062</td>\n",
       "    </tr>\n",
       "    <tr>\n",
       "      <th>1</th>\n",
       "      <td>2acmU</td>\n",
       "      <td>1.334711</td>\n",
       "      <td>-0.340164</td>\n",
       "      <td>4.365080</td>\n",
       "      <td>73.037750</td>\n",
       "    </tr>\n",
       "    <tr>\n",
       "      <th>2</th>\n",
       "      <td>409Wp</td>\n",
       "      <td>1.022732</td>\n",
       "      <td>0.151990</td>\n",
       "      <td>1.419926</td>\n",
       "      <td>85.265647</td>\n",
       "    </tr>\n",
       "    <tr>\n",
       "      <th>3</th>\n",
       "      <td>iJLyR</td>\n",
       "      <td>-0.032172</td>\n",
       "      <td>0.139033</td>\n",
       "      <td>2.978566</td>\n",
       "      <td>168.620776</td>\n",
       "    </tr>\n",
       "    <tr>\n",
       "      <th>4</th>\n",
       "      <td>Xdl7t</td>\n",
       "      <td>1.988431</td>\n",
       "      <td>0.155413</td>\n",
       "      <td>4.751769</td>\n",
       "      <td>154.036647</td>\n",
       "    </tr>\n",
       "  </tbody>\n",
       "</table>\n",
       "</div>"
      ],
      "text/plain": [
       "      id        f0        f1        f2     product\n",
       "0  txEyH  0.705745 -0.497823  1.221170  105.280062\n",
       "1  2acmU  1.334711 -0.340164  4.365080   73.037750\n",
       "2  409Wp  1.022732  0.151990  1.419926   85.265647\n",
       "3  iJLyR -0.032172  0.139033  2.978566  168.620776\n",
       "4  Xdl7t  1.988431  0.155413  4.751769  154.036647"
      ]
     },
     "metadata": {},
     "output_type": "display_data"
    },
    {
     "data": {
      "text/plain": [
       "'\\n'"
      ]
     },
     "metadata": {},
     "output_type": "display_data"
    },
    {
     "data": {
      "text/html": [
       "<div>\n",
       "<style scoped>\n",
       "    .dataframe tbody tr th:only-of-type {\n",
       "        vertical-align: middle;\n",
       "    }\n",
       "\n",
       "    .dataframe tbody tr th {\n",
       "        vertical-align: top;\n",
       "    }\n",
       "\n",
       "    .dataframe thead th {\n",
       "        text-align: right;\n",
       "    }\n",
       "</style>\n",
       "<table border=\"1\" class=\"dataframe\">\n",
       "  <thead>\n",
       "    <tr style=\"text-align: right;\">\n",
       "      <th></th>\n",
       "      <th>id</th>\n",
       "      <th>f0</th>\n",
       "      <th>f1</th>\n",
       "      <th>f2</th>\n",
       "      <th>product</th>\n",
       "    </tr>\n",
       "  </thead>\n",
       "  <tbody>\n",
       "    <tr>\n",
       "      <th>0</th>\n",
       "      <td>kBEdx</td>\n",
       "      <td>-15.001348</td>\n",
       "      <td>-8.276000</td>\n",
       "      <td>-0.005876</td>\n",
       "      <td>3.179103</td>\n",
       "    </tr>\n",
       "    <tr>\n",
       "      <th>1</th>\n",
       "      <td>62mP7</td>\n",
       "      <td>14.272088</td>\n",
       "      <td>-3.475083</td>\n",
       "      <td>0.999183</td>\n",
       "      <td>26.953261</td>\n",
       "    </tr>\n",
       "    <tr>\n",
       "      <th>2</th>\n",
       "      <td>vyE1P</td>\n",
       "      <td>6.263187</td>\n",
       "      <td>-5.948386</td>\n",
       "      <td>5.001160</td>\n",
       "      <td>134.766305</td>\n",
       "    </tr>\n",
       "    <tr>\n",
       "      <th>3</th>\n",
       "      <td>KcrkZ</td>\n",
       "      <td>-13.081196</td>\n",
       "      <td>-11.506057</td>\n",
       "      <td>4.999415</td>\n",
       "      <td>137.945408</td>\n",
       "    </tr>\n",
       "    <tr>\n",
       "      <th>4</th>\n",
       "      <td>AHL4O</td>\n",
       "      <td>12.702195</td>\n",
       "      <td>-8.147433</td>\n",
       "      <td>5.004363</td>\n",
       "      <td>134.766305</td>\n",
       "    </tr>\n",
       "  </tbody>\n",
       "</table>\n",
       "</div>"
      ],
      "text/plain": [
       "      id         f0         f1        f2     product\n",
       "0  kBEdx -15.001348  -8.276000 -0.005876    3.179103\n",
       "1  62mP7  14.272088  -3.475083  0.999183   26.953261\n",
       "2  vyE1P   6.263187  -5.948386  5.001160  134.766305\n",
       "3  KcrkZ -13.081196 -11.506057  4.999415  137.945408\n",
       "4  AHL4O  12.702195  -8.147433  5.004363  134.766305"
      ]
     },
     "metadata": {},
     "output_type": "display_data"
    },
    {
     "data": {
      "text/plain": [
       "'\\n'"
      ]
     },
     "metadata": {},
     "output_type": "display_data"
    },
    {
     "data": {
      "text/html": [
       "<div>\n",
       "<style scoped>\n",
       "    .dataframe tbody tr th:only-of-type {\n",
       "        vertical-align: middle;\n",
       "    }\n",
       "\n",
       "    .dataframe tbody tr th {\n",
       "        vertical-align: top;\n",
       "    }\n",
       "\n",
       "    .dataframe thead th {\n",
       "        text-align: right;\n",
       "    }\n",
       "</style>\n",
       "<table border=\"1\" class=\"dataframe\">\n",
       "  <thead>\n",
       "    <tr style=\"text-align: right;\">\n",
       "      <th></th>\n",
       "      <th>id</th>\n",
       "      <th>f0</th>\n",
       "      <th>f1</th>\n",
       "      <th>f2</th>\n",
       "      <th>product</th>\n",
       "    </tr>\n",
       "  </thead>\n",
       "  <tbody>\n",
       "    <tr>\n",
       "      <th>0</th>\n",
       "      <td>fwXo0</td>\n",
       "      <td>-1.146987</td>\n",
       "      <td>0.963328</td>\n",
       "      <td>-0.828965</td>\n",
       "      <td>27.758673</td>\n",
       "    </tr>\n",
       "    <tr>\n",
       "      <th>1</th>\n",
       "      <td>WJtFt</td>\n",
       "      <td>0.262778</td>\n",
       "      <td>0.269839</td>\n",
       "      <td>-2.530187</td>\n",
       "      <td>56.069697</td>\n",
       "    </tr>\n",
       "    <tr>\n",
       "      <th>2</th>\n",
       "      <td>ovLUW</td>\n",
       "      <td>0.194587</td>\n",
       "      <td>0.289035</td>\n",
       "      <td>-5.586433</td>\n",
       "      <td>62.871910</td>\n",
       "    </tr>\n",
       "    <tr>\n",
       "      <th>3</th>\n",
       "      <td>q6cA6</td>\n",
       "      <td>2.236060</td>\n",
       "      <td>-0.553760</td>\n",
       "      <td>0.930038</td>\n",
       "      <td>114.572842</td>\n",
       "    </tr>\n",
       "    <tr>\n",
       "      <th>4</th>\n",
       "      <td>WPMUX</td>\n",
       "      <td>-0.515993</td>\n",
       "      <td>1.716266</td>\n",
       "      <td>5.899011</td>\n",
       "      <td>149.600746</td>\n",
       "    </tr>\n",
       "  </tbody>\n",
       "</table>\n",
       "</div>"
      ],
      "text/plain": [
       "      id        f0        f1        f2     product\n",
       "0  fwXo0 -1.146987  0.963328 -0.828965   27.758673\n",
       "1  WJtFt  0.262778  0.269839 -2.530187   56.069697\n",
       "2  ovLUW  0.194587  0.289035 -5.586433   62.871910\n",
       "3  q6cA6  2.236060 -0.553760  0.930038  114.572842\n",
       "4  WPMUX -0.515993  1.716266  5.899011  149.600746"
      ]
     },
     "metadata": {},
     "output_type": "display_data"
    },
    {
     "data": {
      "text/plain": [
       "'\\n'"
      ]
     },
     "metadata": {},
     "output_type": "display_data"
    }
   ],
   "source": [
    "import pandas as pd\n",
    "from sklearn.model_selection import train_test_split\n",
    "from sklearn.linear_model import LinearRegression\n",
    "from sklearn.metrics import mean_squared_error\n",
    "\n",
    "import numpy as np\n",
    "\n",
    "\n",
    "# Cargar los datos en DataFrames\n",
    "df_0 = pd.read_csv('geo_data_0.csv')\n",
    "df_1 = pd.read_csv('geo_data_1.csv')\n",
    "df_2 = pd.read_csv('geo_data_2.csv')\n",
    "\n",
    "# Mostrar las primeras filas de cada conjunto de datos\n",
    "display(df_0.head(), \"\\n\")\n",
    "display(df_1.head(), \"\\n\")\n",
    "display(df_2.head(), \"\\n\")"
   ]
  },
  {
   "cell_type": "markdown",
   "metadata": {},
   "source": [
    "**2. Explorar la estructura de los datos\n",
    "Verificamos las columnas y tipos de datos con .info()**"
   ]
  },
  {
   "cell_type": "code",
   "execution_count": null,
   "metadata": {},
   "outputs": [
    {
     "name": "stdout",
     "output_type": "stream",
     "text": [
      "<class 'pandas.core.frame.DataFrame'>\n",
      "RangeIndex: 100000 entries, 0 to 99999\n",
      "Data columns (total 5 columns):\n",
      " #   Column   Non-Null Count   Dtype  \n",
      "---  ------   --------------   -----  \n",
      " 0   id       100000 non-null  object \n",
      " 1   f0       100000 non-null  float64\n",
      " 2   f1       100000 non-null  float64\n",
      " 3   f2       100000 non-null  float64\n",
      " 4   product  100000 non-null  float64\n",
      "dtypes: float64(4), object(1)\n",
      "memory usage: 3.8+ MB\n"
     ]
    },
    {
     "data": {
      "text/plain": [
       "None"
      ]
     },
     "metadata": {},
     "output_type": "display_data"
    },
    {
     "data": {
      "text/plain": [
       "'\\n'"
      ]
     },
     "metadata": {},
     "output_type": "display_data"
    },
    {
     "name": "stdout",
     "output_type": "stream",
     "text": [
      "<class 'pandas.core.frame.DataFrame'>\n",
      "RangeIndex: 100000 entries, 0 to 99999\n",
      "Data columns (total 5 columns):\n",
      " #   Column   Non-Null Count   Dtype  \n",
      "---  ------   --------------   -----  \n",
      " 0   id       100000 non-null  object \n",
      " 1   f0       100000 non-null  float64\n",
      " 2   f1       100000 non-null  float64\n",
      " 3   f2       100000 non-null  float64\n",
      " 4   product  100000 non-null  float64\n",
      "dtypes: float64(4), object(1)\n",
      "memory usage: 3.8+ MB\n",
      "None \n",
      "\n",
      "<class 'pandas.core.frame.DataFrame'>\n",
      "RangeIndex: 100000 entries, 0 to 99999\n",
      "Data columns (total 5 columns):\n",
      " #   Column   Non-Null Count   Dtype  \n",
      "---  ------   --------------   -----  \n",
      " 0   id       100000 non-null  object \n",
      " 1   f0       100000 non-null  float64\n",
      " 2   f1       100000 non-null  float64\n",
      " 3   f2       100000 non-null  float64\n",
      " 4   product  100000 non-null  float64\n",
      "dtypes: float64(4), object(1)\n",
      "memory usage: 3.8+ MB\n",
      "None \n",
      "\n"
     ]
    }
   ],
   "source": [
    "print(df_0.info(), \"\\n\")\n",
    "print(df_1.info(), \"\\n\")\n",
    "print(df_2.info(), \"\\n\")\n"
   ]
  },
  {
   "cell_type": "markdown",
   "metadata": {},
   "source": [
    "Explicación:\n",
    "\n",
    "Revisamos si todas las columnas tienen datos del tipo esperado (float64 para características numéricas y object para IDs).\n",
    "Nos aseguramos de que todas las regiones tienen el mismo formato.\n",
    "\n",
    "3. Verificar valores faltantes y duplicados\n",
    "Buscamos valores nulos y duplicados que puedan afectar el modelo.\n"
   ]
  },
  {
   "cell_type": "code",
   "execution_count": 3,
   "metadata": {},
   "outputs": [
    {
     "name": "stdout",
     "output_type": "stream",
     "text": [
      "id         0\n",
      "f0         0\n",
      "f1         0\n",
      "f2         0\n",
      "product    0\n",
      "dtype: int64 \n",
      "\n",
      "id         0\n",
      "f0         0\n",
      "f1         0\n",
      "f2         0\n",
      "product    0\n",
      "dtype: int64 \n",
      "\n",
      "id         0\n",
      "f0         0\n",
      "f1         0\n",
      "f2         0\n",
      "product    0\n",
      "dtype: int64 \n",
      "\n",
      "0 \n",
      "\n",
      "0 \n",
      "\n",
      "0 \n",
      "\n"
     ]
    }
   ],
   "source": [
    "print(df_0.isnull().sum(), \"\\n\")\n",
    "print(df_1.isnull().sum(), \"\\n\")\n",
    "print(df_2.isnull().sum(), \"\\n\")\n",
    "\n",
    "print(df_0.duplicated().sum(), \"\\n\")\n",
    "print(df_1.duplicated().sum(), \"\\n\")\n",
    "print(df_2.duplicated().sum(), \"\\n\")\n"
   ]
  },
  {
   "cell_type": "markdown",
   "metadata": {},
   "source": [
    "Explicación:\n",
    "\n",
    "Si hay valores nulos, necesitaremos decidir si eliminarlos o rellenarlos con algún valor.\n",
    "Si hay duplicados, podrían indicar errores en la recopilación de datos.\n",
    "4. Describir los datos estadísticamente\n",
    "Para entender la distribución de los valores, usamos .describe()"
   ]
  },
  {
   "cell_type": "code",
   "execution_count": 5,
   "metadata": {},
   "outputs": [
    {
     "data": {
      "text/html": [
       "<div>\n",
       "<style scoped>\n",
       "    .dataframe tbody tr th:only-of-type {\n",
       "        vertical-align: middle;\n",
       "    }\n",
       "\n",
       "    .dataframe tbody tr th {\n",
       "        vertical-align: top;\n",
       "    }\n",
       "\n",
       "    .dataframe thead th {\n",
       "        text-align: right;\n",
       "    }\n",
       "</style>\n",
       "<table border=\"1\" class=\"dataframe\">\n",
       "  <thead>\n",
       "    <tr style=\"text-align: right;\">\n",
       "      <th></th>\n",
       "      <th>f0</th>\n",
       "      <th>f1</th>\n",
       "      <th>f2</th>\n",
       "      <th>product</th>\n",
       "    </tr>\n",
       "  </thead>\n",
       "  <tbody>\n",
       "    <tr>\n",
       "      <th>count</th>\n",
       "      <td>100000.000000</td>\n",
       "      <td>100000.000000</td>\n",
       "      <td>100000.000000</td>\n",
       "      <td>100000.000000</td>\n",
       "    </tr>\n",
       "    <tr>\n",
       "      <th>mean</th>\n",
       "      <td>0.500419</td>\n",
       "      <td>0.250143</td>\n",
       "      <td>2.502647</td>\n",
       "      <td>92.500000</td>\n",
       "    </tr>\n",
       "    <tr>\n",
       "      <th>std</th>\n",
       "      <td>0.871832</td>\n",
       "      <td>0.504433</td>\n",
       "      <td>3.248248</td>\n",
       "      <td>44.288691</td>\n",
       "    </tr>\n",
       "    <tr>\n",
       "      <th>min</th>\n",
       "      <td>-1.408605</td>\n",
       "      <td>-0.848218</td>\n",
       "      <td>-12.088328</td>\n",
       "      <td>0.000000</td>\n",
       "    </tr>\n",
       "    <tr>\n",
       "      <th>25%</th>\n",
       "      <td>-0.072580</td>\n",
       "      <td>-0.200881</td>\n",
       "      <td>0.287748</td>\n",
       "      <td>56.497507</td>\n",
       "    </tr>\n",
       "    <tr>\n",
       "      <th>50%</th>\n",
       "      <td>0.502360</td>\n",
       "      <td>0.250252</td>\n",
       "      <td>2.515969</td>\n",
       "      <td>91.849972</td>\n",
       "    </tr>\n",
       "    <tr>\n",
       "      <th>75%</th>\n",
       "      <td>1.073581</td>\n",
       "      <td>0.700646</td>\n",
       "      <td>4.715088</td>\n",
       "      <td>128.564089</td>\n",
       "    </tr>\n",
       "    <tr>\n",
       "      <th>max</th>\n",
       "      <td>2.362331</td>\n",
       "      <td>1.343769</td>\n",
       "      <td>16.003790</td>\n",
       "      <td>185.364347</td>\n",
       "    </tr>\n",
       "  </tbody>\n",
       "</table>\n",
       "</div>"
      ],
      "text/plain": [
       "                  f0             f1             f2        product\n",
       "count  100000.000000  100000.000000  100000.000000  100000.000000\n",
       "mean        0.500419       0.250143       2.502647      92.500000\n",
       "std         0.871832       0.504433       3.248248      44.288691\n",
       "min        -1.408605      -0.848218     -12.088328       0.000000\n",
       "25%        -0.072580      -0.200881       0.287748      56.497507\n",
       "50%         0.502360       0.250252       2.515969      91.849972\n",
       "75%         1.073581       0.700646       4.715088     128.564089\n",
       "max         2.362331       1.343769      16.003790     185.364347"
      ]
     },
     "metadata": {},
     "output_type": "display_data"
    },
    {
     "data": {
      "text/plain": [
       "'\\n'"
      ]
     },
     "metadata": {},
     "output_type": "display_data"
    },
    {
     "data": {
      "text/html": [
       "<div>\n",
       "<style scoped>\n",
       "    .dataframe tbody tr th:only-of-type {\n",
       "        vertical-align: middle;\n",
       "    }\n",
       "\n",
       "    .dataframe tbody tr th {\n",
       "        vertical-align: top;\n",
       "    }\n",
       "\n",
       "    .dataframe thead th {\n",
       "        text-align: right;\n",
       "    }\n",
       "</style>\n",
       "<table border=\"1\" class=\"dataframe\">\n",
       "  <thead>\n",
       "    <tr style=\"text-align: right;\">\n",
       "      <th></th>\n",
       "      <th>f0</th>\n",
       "      <th>f1</th>\n",
       "      <th>f2</th>\n",
       "      <th>product</th>\n",
       "    </tr>\n",
       "  </thead>\n",
       "  <tbody>\n",
       "    <tr>\n",
       "      <th>count</th>\n",
       "      <td>100000.000000</td>\n",
       "      <td>100000.000000</td>\n",
       "      <td>100000.000000</td>\n",
       "      <td>100000.000000</td>\n",
       "    </tr>\n",
       "    <tr>\n",
       "      <th>mean</th>\n",
       "      <td>1.141296</td>\n",
       "      <td>-4.796579</td>\n",
       "      <td>2.494541</td>\n",
       "      <td>68.825000</td>\n",
       "    </tr>\n",
       "    <tr>\n",
       "      <th>std</th>\n",
       "      <td>8.965932</td>\n",
       "      <td>5.119872</td>\n",
       "      <td>1.703572</td>\n",
       "      <td>45.944423</td>\n",
       "    </tr>\n",
       "    <tr>\n",
       "      <th>min</th>\n",
       "      <td>-31.609576</td>\n",
       "      <td>-26.358598</td>\n",
       "      <td>-0.018144</td>\n",
       "      <td>0.000000</td>\n",
       "    </tr>\n",
       "    <tr>\n",
       "      <th>25%</th>\n",
       "      <td>-6.298551</td>\n",
       "      <td>-8.267985</td>\n",
       "      <td>1.000021</td>\n",
       "      <td>26.953261</td>\n",
       "    </tr>\n",
       "    <tr>\n",
       "      <th>50%</th>\n",
       "      <td>1.153055</td>\n",
       "      <td>-4.813172</td>\n",
       "      <td>2.011479</td>\n",
       "      <td>57.085625</td>\n",
       "    </tr>\n",
       "    <tr>\n",
       "      <th>75%</th>\n",
       "      <td>8.621015</td>\n",
       "      <td>-1.332816</td>\n",
       "      <td>3.999904</td>\n",
       "      <td>107.813044</td>\n",
       "    </tr>\n",
       "    <tr>\n",
       "      <th>max</th>\n",
       "      <td>29.421755</td>\n",
       "      <td>18.734063</td>\n",
       "      <td>5.019721</td>\n",
       "      <td>137.945408</td>\n",
       "    </tr>\n",
       "  </tbody>\n",
       "</table>\n",
       "</div>"
      ],
      "text/plain": [
       "                  f0             f1             f2        product\n",
       "count  100000.000000  100000.000000  100000.000000  100000.000000\n",
       "mean        1.141296      -4.796579       2.494541      68.825000\n",
       "std         8.965932       5.119872       1.703572      45.944423\n",
       "min       -31.609576     -26.358598      -0.018144       0.000000\n",
       "25%        -6.298551      -8.267985       1.000021      26.953261\n",
       "50%         1.153055      -4.813172       2.011479      57.085625\n",
       "75%         8.621015      -1.332816       3.999904     107.813044\n",
       "max        29.421755      18.734063       5.019721     137.945408"
      ]
     },
     "metadata": {},
     "output_type": "display_data"
    },
    {
     "data": {
      "text/plain": [
       "'\\n'"
      ]
     },
     "metadata": {},
     "output_type": "display_data"
    },
    {
     "data": {
      "text/html": [
       "<div>\n",
       "<style scoped>\n",
       "    .dataframe tbody tr th:only-of-type {\n",
       "        vertical-align: middle;\n",
       "    }\n",
       "\n",
       "    .dataframe tbody tr th {\n",
       "        vertical-align: top;\n",
       "    }\n",
       "\n",
       "    .dataframe thead th {\n",
       "        text-align: right;\n",
       "    }\n",
       "</style>\n",
       "<table border=\"1\" class=\"dataframe\">\n",
       "  <thead>\n",
       "    <tr style=\"text-align: right;\">\n",
       "      <th></th>\n",
       "      <th>f0</th>\n",
       "      <th>f1</th>\n",
       "      <th>f2</th>\n",
       "      <th>product</th>\n",
       "    </tr>\n",
       "  </thead>\n",
       "  <tbody>\n",
       "    <tr>\n",
       "      <th>count</th>\n",
       "      <td>100000.000000</td>\n",
       "      <td>100000.000000</td>\n",
       "      <td>100000.000000</td>\n",
       "      <td>100000.000000</td>\n",
       "    </tr>\n",
       "    <tr>\n",
       "      <th>mean</th>\n",
       "      <td>0.002023</td>\n",
       "      <td>-0.002081</td>\n",
       "      <td>2.495128</td>\n",
       "      <td>95.000000</td>\n",
       "    </tr>\n",
       "    <tr>\n",
       "      <th>std</th>\n",
       "      <td>1.732045</td>\n",
       "      <td>1.730417</td>\n",
       "      <td>3.473445</td>\n",
       "      <td>44.749921</td>\n",
       "    </tr>\n",
       "    <tr>\n",
       "      <th>min</th>\n",
       "      <td>-8.760004</td>\n",
       "      <td>-7.084020</td>\n",
       "      <td>-11.970335</td>\n",
       "      <td>0.000000</td>\n",
       "    </tr>\n",
       "    <tr>\n",
       "      <th>25%</th>\n",
       "      <td>-1.162288</td>\n",
       "      <td>-1.174820</td>\n",
       "      <td>0.130359</td>\n",
       "      <td>59.450441</td>\n",
       "    </tr>\n",
       "    <tr>\n",
       "      <th>50%</th>\n",
       "      <td>0.009424</td>\n",
       "      <td>-0.009482</td>\n",
       "      <td>2.484236</td>\n",
       "      <td>94.925613</td>\n",
       "    </tr>\n",
       "    <tr>\n",
       "      <th>75%</th>\n",
       "      <td>1.158535</td>\n",
       "      <td>1.163678</td>\n",
       "      <td>4.858794</td>\n",
       "      <td>130.595027</td>\n",
       "    </tr>\n",
       "    <tr>\n",
       "      <th>max</th>\n",
       "      <td>7.238262</td>\n",
       "      <td>7.844801</td>\n",
       "      <td>16.739402</td>\n",
       "      <td>190.029838</td>\n",
       "    </tr>\n",
       "  </tbody>\n",
       "</table>\n",
       "</div>"
      ],
      "text/plain": [
       "                  f0             f1             f2        product\n",
       "count  100000.000000  100000.000000  100000.000000  100000.000000\n",
       "mean        0.002023      -0.002081       2.495128      95.000000\n",
       "std         1.732045       1.730417       3.473445      44.749921\n",
       "min        -8.760004      -7.084020     -11.970335       0.000000\n",
       "25%        -1.162288      -1.174820       0.130359      59.450441\n",
       "50%         0.009424      -0.009482       2.484236      94.925613\n",
       "75%         1.158535       1.163678       4.858794     130.595027\n",
       "max         7.238262       7.844801      16.739402     190.029838"
      ]
     },
     "metadata": {},
     "output_type": "display_data"
    },
    {
     "data": {
      "text/plain": [
       "'\\n'"
      ]
     },
     "metadata": {},
     "output_type": "display_data"
    }
   ],
   "source": [
    "display(df_0.describe(), \"\\n\")\n",
    "display(df_1.describe(), \"\\n\")\n",
    "display(df_2.describe(), \"\\n\")\n"
   ]
  },
  {
   "cell_type": "markdown",
   "metadata": {},
   "source": [
    "✅**Explicación:**\n",
    "\n",
    "Nos ayuda a ver los valores mínimos, máximos, media y desviación estándar.\n",
    "Analizaremos si los datos tienen valores extremos que puedan afectar el modelo.\n",
    "Conclusión\n",
    "Después de este análisis, podremos determinar:\n",
    "✅ Si los datos están completos y listos para usar.\n",
    "✅ Si hay problemas como valores nulos o duplicados.\n",
    "✅ Cómo se distribuyen las variables en cada región.\n"
   ]
  },
  {
   "cell_type": "markdown",
   "metadata": {},
   "source": [
    "**Entrena y prueba el modelo para cada región en geo_data_0.csv:**\n",
    "\n",
    "1.Divide los datos en un conjunto de entrenamiento y un conjunto de validación en una proporción de 75:25\n",
    "\n",
    "2.Entrena un modelo de regresión lineal.\n",
    "\n",
    "3.Entrena un modelo de regresión lineal.\n",
    "\n",
    "4.Hace predicciones en el conjunto de validación.\n",
    "\n",
    "5.Calcula y muestra el RMSE y el volumen medio de reservas predicho."
   ]
  },
  {
   "cell_type": "code",
   "execution_count": 13,
   "metadata": {},
   "outputs": [
    {
     "name": "stdout",
     "output_type": "stream",
     "text": [
      "\n",
      "Región 0\n",
      "Predicciones: [101.90101715  78.21777385 115.26690103 105.61861791  97.9801849 ]\n",
      "Valores reales: [122.07334983  48.73853962 131.33808824  88.32775748  36.95926621]\n",
      "RMSE del modelo: 37.76\n",
      "Volumen medio de reservas predicho: 92.40\n",
      "\n",
      "Región 1\n",
      "Predicciones: [ 8.44738063e-01  5.29216119e+01  1.35110385e+02  1.09494863e+02\n",
      " -4.72915824e-02]\n",
      "Valores reales: [  0.          53.90652206 134.76630516 107.81304413   0.        ]\n",
      "RMSE del modelo: 0.89\n",
      "Volumen medio de reservas predicho: 68.71\n",
      "\n",
      "Región 2\n",
      "Predicciones: [ 98.30191642 101.59246124  52.4490989  109.92212707  72.41184733]\n",
      "Valores reales: [117.44130067  47.84124932  45.88348343 139.01460762  84.00427563]\n",
      "RMSE del modelo: 40.15\n",
      "Volumen medio de reservas predicho: 94.77\n"
     ]
    }
   ],
   "source": [
    "\n",
    "\n",
    "# Función para entrenar el modelo y calcular métricas\n",
    "def train_and_evaluate(df, region_name):\n",
    "    print(f\"\\nRegión {region_name}\")\n",
    "    \n",
    "    # Separar características y variable objetivo\n",
    "    features = df[['f0', 'f1', 'f2']]\n",
    "    target = df['product']\n",
    "\n",
    "    # Dividir los datos en entrenamiento (75%) y validación (25%)\n",
    "    features_train, features_valid, target_train, target_valid = train_test_split(\n",
    "        features, target, test_size=0.25, random_state=42\n",
    "    )\n",
    "\n",
    "    # Entrenar el modelo de regresión lineal\n",
    "    model = LinearRegression()\n",
    "    model.fit(features_train, target_train)\n",
    "\n",
    "    # Hacer predicciones en el conjunto de validación\n",
    "    predictions = model.predict(features_valid)\n",
    "    print(f\"Predicciones: {predictions[:5]}\")  # Mostrar las primeras 5 predicciones\n",
    "    print(f\"Valores reales: {target_valid[:5].values}\")  # Mostrar los primeros 5 valores reales\n",
    "\n",
    "    # Calcular RMSE\n",
    "    mse = mean_squared_error(target_valid, predictions)\n",
    "    rmse = np.sqrt(mse)\n",
    "\n",
    "    # Mostrar resultados\n",
    "    print(f\"RMSE del modelo: {rmse:.2f}\")\n",
    "    print(f\"Volumen medio de reservas predicho: {predictions.mean():.2f}\")\n",
    "    \n",
    "    return model, predictions, target_valid  # Retornar modelo y predicciones para su uso posterior\n",
    "\n",
    "# Aplicar a cada región\n",
    "model_0, predictions_0, target_valid_0 = train_and_evaluate(df_0, \"0\")\n",
    "model_1, predictions_1, target_valid_1 = train_and_evaluate(df_1, \"1\")\n",
    "model_2, predictions_2, target_valid_2 = train_and_evaluate(df_2, \"2\")\n"
   ]
  },
  {
   "cell_type": "markdown",
   "metadata": {},
   "source": [
    "✅**Expliacion**\n",
    "\n",
    "\n",
    " Calcular el error cuadrático medio (MSE)\n",
    "\n",
    "mean_squared_error(y_real, y_pred) calcula el error cuadrático medio (MSE), que mide qué tan lejos están las predicciones de los valores reales.\n",
    "\n",
    "2️⃣ Obtener la raíz del error cuadrático medio (RMSE)\n",
    "\n",
    "La raíz cuadrada del MSE nos da el error cuadrático medio raíz (RMSE).\n",
    "\n",
    "\n",
    "3️⃣ Mostrar resultados\n",
    "\n",
    "rmse:.2f formatea el número con 2 decimales.\n",
    "predictions.mean() nos da el promedio de reservas predichas, lo que nos ayuda a entender si el modelo sobreestima o subestima el valor real.\n",
    "\n"
   ]
  },
  {
   "cell_type": "markdown",
   "metadata": {},
   "source": [
    "**3 Preparate para el calculo de ganancias**\n",
    "\n",
    "\n",
    "**Paso 3.1: Almacenar valores clave**\n",
    "\n",
    "Definimos las variables necesarias:"
   ]
  },
  {
   "cell_type": "code",
   "execution_count": 14,
   "metadata": {},
   "outputs": [
    {
     "name": "stdout",
     "output_type": "stream",
     "text": [
      "Cada pozo debe producir al menos 111.1 unidades (miles de barriles) para evitar pérdidas.\n"
     ]
    }
   ],
   "source": [
    "# Costo total de inversión en millones de dólares\n",
    "total_budget = 100_000_000  \n",
    "\n",
    "# Número de pozos seleccionados\n",
    "num_selected_wells = 200  \n",
    "\n",
    "# Precio por barril en dólares\n",
    "price_per_barrel = 4.5  \n",
    "\n",
    "# Ingreso por cada unidad (miles de barriles)\n",
    "revenue_per_unit = price_per_barrel * 1000  \n",
    "\n",
    "# Punto de equilibrio por pozo\n",
    "break_even_units = total_budget / (num_selected_wells * revenue_per_unit) \n",
    "\n",
    "print(f\"Cada pozo debe producir al menos {break_even_units:.1f} unidades (miles de barriles) para evitar pérdidas.\")\n"
   ]
  },
  {
   "cell_type": "markdown",
   "metadata": {},
   "source": [
    "**Paso 3.2: Comparación con la cantidad media de reservas**\n",
    "\n",
    "Cada pozo debe generar 111.1 unidades para evitar pérdidas.\n",
    "El volumen medio de reservas en la región 0 nos dirá si en promedio cada pozo está por encima o por debajo de este umbral.\n",
    "\n",
    "\n",
    "Si el valor medio de reservas en la región es menor a 111.1 unidades, perforar al azar sería una estrategia arriesgada. En este caso, la clave será seleccionar solo los mejores pozos."
   ]
  },
  {
   "cell_type": "code",
   "execution_count": 15,
   "metadata": {},
   "outputs": [
    {
     "name": "stdout",
     "output_type": "stream",
     "text": [
      "Media de reservas - Región 0: 92.5 unidades\n",
      "Media de reservas - Región 1: 68.8 unidades\n",
      "Media de reservas - Región 2: 95.0 unidades\n"
     ]
    }
   ],
   "source": [
    "# Calcular la media de reservas en cada región\n",
    "mean_reserves_0 = df_0['product'].mean()\n",
    "mean_reserves_1 = df_1['product'].mean()\n",
    "mean_reserves_2 = df_2['product'].mean()\n",
    "\n",
    "print(f\"Media de reservas - Región 0: {mean_reserves_0:.1f} unidades\")\n",
    "print(f\"Media de reservas - Región 1: {mean_reserves_1:.1f} unidades\")\n",
    "print(f\"Media de reservas - Región 2: {mean_reserves_2:.1f} unidades\")\n"
   ]
  },
  {
   "cell_type": "markdown",
   "metadata": {},
   "source": [
    "✅**3.3 Conclusiones sobre la preparación**✅\n",
    "\n",
    "El pozo promedio no es suficiente para ninguna region"
   ]
  },
  {
   "cell_type": "markdown",
   "metadata": {},
   "source": [
    "**Paso 4.1: Seleccionar los 200 pozos con las predicciones más altas**\n",
    "\n",
    "Ordenamos las predicciones y seleccionamos los 200 pozos con el mayor valor predicho."
   ]
  },
  {
   "cell_type": "code",
   "execution_count": 16,
   "metadata": {},
   "outputs": [
    {
     "name": "stdout",
     "output_type": "stream",
     "text": [
      "Volumen medio de reservas en los mejores 200 pozos - Región 0: 148.43\n",
      "Volumen medio de reservas en los mejores 200 pozos - Región 1: 137.95\n",
      "Volumen medio de reservas en los mejores 200 pozos - Región 2: 139.98\n"
     ]
    }
   ],
   "source": [
    "\n",
    "\n",
    "num_selected_wells = 200  # Número de pozos a seleccionar\n",
    "\n",
    "# Dividir los datos en entrenamiento (75%) y validación (25%) para cada región\n",
    "features_train_0, features_valid_0, target_train_0, target_valid_0 = train_test_split(\n",
    "    df_0[['f0', 'f1', 'f2']], df_0['product'], test_size=0.25, random_state=42\n",
    ")\n",
    "features_train_1, features_valid_1, target_train_1, target_valid_1 = train_test_split(\n",
    "    df_1[['f0', 'f1', 'f2']], df_1['product'], test_size=0.25, random_state=42\n",
    ")\n",
    "features_train_2, features_valid_2, target_train_2, target_valid_2 = train_test_split(\n",
    "    df_2[['f0', 'f1', 'f2']], df_2['product'], test_size=0.25, random_state=42\n",
    ")\n",
    "\n",
    "# Entrenar modelos de regresión lineal para cada región\n",
    "model_0 = LinearRegression()\n",
    "model_0.fit(features_train_0, target_train_0)\n",
    "\n",
    "model_1 = LinearRegression()\n",
    "model_1.fit(features_train_1, target_train_1)\n",
    "\n",
    "model_2 = LinearRegression()\n",
    "model_2.fit(features_train_2, target_train_2)\n",
    "\n",
    "# Función para seleccionar los 200 mejores pozos por predicción\n",
    "def select_top_wells(features, target, model):\n",
    "    predictions = model.predict(features)\n",
    "    top_indices = np.argsort(predictions)[-num_selected_wells:]  # Seleccionar los 200 mejores\n",
    "    return target.iloc[top_indices], predictions[top_indices]\n",
    "\n",
    "# Seleccionar los mejores pozos en cada región\n",
    "top_target_0, top_predictions_0 = select_top_wells(features_valid_0, target_valid_0, model_0)\n",
    "top_target_1, top_predictions_1 = select_top_wells(features_valid_1, target_valid_1, model_1)\n",
    "top_target_2, top_predictions_2 = select_top_wells(features_valid_2, target_valid_2, model_2)\n",
    "\n",
    "# Mostrar información de los 200 mejores pozos por región\n",
    "print(f\"Volumen medio de reservas en los mejores 200 pozos - Región 0: {top_target_0.mean():.2f}\")\n",
    "print(f\"Volumen medio de reservas en los mejores 200 pozos - Región 1: {top_target_1.mean():.2f}\")\n",
    "print(f\"Volumen medio de reservas en los mejores 200 pozos - Región 2: {top_target_2.mean():.2f}\")\n"
   ]
  },
  {
   "cell_type": "markdown",
   "metadata": {},
   "source": [
    "**Paso 4.2: Calcular el volumen objetivo de reservas**\n",
    "\n",
    "Sumamos las reservas reales (actual) de los 200 mejores pozos para ver cuántas reservas reales tienen."
   ]
  },
  {
   "cell_type": "code",
   "execution_count": 17,
   "metadata": {},
   "outputs": [
    {
     "name": "stdout",
     "output_type": "stream",
     "text": [
      "Volumen total de reservas en los 200 mejores pozos - Región 0: 29686.98\n",
      "Volumen total de reservas en los 200 mejores pozos - Región 1: 27589.08\n",
      "Volumen total de reservas en los 200 mejores pozos - Región 2: 27996.83\n"
     ]
    }
   ],
   "source": [
    "# Calcular el volumen total de reservas en los 200 mejores pozos de cada región\n",
    "total_reserves_0 = top_target_0.sum()\n",
    "total_reserves_1 = top_target_1.sum()\n",
    "total_reserves_2 = top_target_2.sum()\n",
    "\n",
    "# Mostrar los resultados\n",
    "print(f\"Volumen total de reservas en los 200 mejores pozos - Región 0: {total_reserves_0:.2f}\")\n",
    "print(f\"Volumen total de reservas en los 200 mejores pozos - Región 1: {total_reserves_1:.2f}\")\n",
    "print(f\"Volumen total de reservas en los 200 mejores pozos - Región 2: {total_reserves_2:.2f}\")\n"
   ]
  },
  {
   "cell_type": "markdown",
   "metadata": {},
   "source": [
    "**Paso 4.3: Calcular la ganancia potencial**\n",
    "\n",
    "\n",
    "Utilizamos la fórmula:\n",
    "\n",
    "Ganancia=Total de reservas×4500−100,000,000\n"
   ]
  },
  {
   "cell_type": "code",
   "execution_count": 18,
   "metadata": {},
   "outputs": [
    {
     "name": "stdout",
     "output_type": "stream",
     "text": [
      "Ganancia potencial - Región 0: $33,591,411.14\n",
      "Ganancia potencial - Región 1: $24,150,866.97\n",
      "Ganancia potencial - Región 2: $25,985,717.59\n"
     ]
    }
   ],
   "source": [
    "# Definir constantes\n",
    "REVENUE_PER_UNIT = 4500  # Ingreso por unidad de reserva\n",
    "INVESTMENT = 100_000_000  # Inversión total en dólares\n",
    "\n",
    "# Calcular la ganancia potencial en cada región\n",
    "profit_0 = total_reserves_0 * REVENUE_PER_UNIT - INVESTMENT\n",
    "profit_1 = total_reserves_1 * REVENUE_PER_UNIT - INVESTMENT\n",
    "profit_2 = total_reserves_2 * REVENUE_PER_UNIT - INVESTMENT\n",
    "\n",
    "# Mostrar los resultados\n",
    "print(f\"Ganancia potencial - Región 0: ${profit_0:,.2f}\")\n",
    "print(f\"Ganancia potencial - Región 1: ${profit_1:,.2f}\")\n",
    "print(f\"Ganancia potencial - Región 2: ${profit_2:,.2f}\")\n"
   ]
  },
  {
   "cell_type": "markdown",
   "metadata": {},
   "source": [
    "✅**Conclusión**✅\n",
    "\n",
    "Volumen objetivo de reservas:\n",
    "\n",
    "Al sumar las reservas reales de los 200 mejores pozos en cada región, observamos diferencias significativas en la capacidad productiva de cada zona.\n",
    "Ganancia potencial:\n",
    "\n",
    "la region 0 obtuvo las mejores ganancias con $33M, seguido de la Region 2 con casi $26M y por ultimo la Region 1 con $24M"
   ]
  },
  {
   "cell_type": "markdown",
   "metadata": {},
   "source": [
    "**Paso 5.1: Aplicar Bootstrapping**\n",
    "\n",
    "Generamos 1000 muestras aleatorias con reemplazo y calculamos la ganancia para cada una."
   ]
  },
  {
   "cell_type": "code",
   "execution_count": 19,
   "metadata": {},
   "outputs": [
    {
     "name": "stdout",
     "output_type": "stream",
     "text": [
      "Media de ganancia - Región 0: $34,954,194.71\n",
      "Desviación estándar de ganancia - Región 0: $3,681,869.62\n",
      "Intervalo de confianza del 95% - Región 0: ($27,744,941.42 - $42,186,182.84)\n",
      "Riesgo de pérdida (porcentaje de veces que la ganancia < 0) - Región 0: 0.00%\n",
      "\n",
      "Media de ganancia - Región 1: $35,327,924.72\n",
      "Desviación estándar de ganancia - Región 1: $3,987,668.84\n",
      "Intervalo de confianza del 95% - Región 1: ($27,273,594.32 - $43,155,068.16)\n",
      "Riesgo de pérdida - Región 1: 0.00%\n",
      "\n",
      "Media de ganancia - Región 2: $34,630,870.05\n",
      "Desviación estándar de ganancia - Región 2: $3,319,230.80\n",
      "Intervalo de confianza del 95% - Región 2: ($28,020,660.16 - $41,092,965.46)\n",
      "Riesgo de pérdida - Región 2: 0.00%\n"
     ]
    }
   ],
   "source": [
    "\n",
    "# Definir la cantidad de simulaciones\n",
    "num_bootstrap_samples = 1000\n",
    "\n",
    "# Función para calcular la ganancia con bootstrapping\n",
    "def bootstrap_profit(data_df, actual_reserves_col, predicted_reserves_col, \n",
    "                     num_total_wells_to_sample=500, num_selected_wells=200):\n",
    "    \"\"\"\n",
    "    Calcula la distribución de la ganancia utilizando la técnica de bootstrapping.\n",
    "\n",
    "    Args:\n",
    "        data_df (pd.DataFrame): DataFrame que contiene los datos de los pozos.\n",
    "                               Debe incluir las columnas de reservas reales y predichas.\n",
    "                               Se espera que este DataFrame contenga los 25,000 pozos de validación.\n",
    "        actual_reserves_col (str): Nombre de la columna con las reservas reales.\n",
    "        predicted_reserves_col (str): Nombre de la columna con las reservas predichas.\n",
    "        num_total_wells_to_sample (int): Número de pozos a muestrear con reemplazo en cada iteración (e.g., 500).\n",
    "        num_selected_wells (int): Número de los mejores pozos a seleccionar basados en la predicción (e.g., 200).\n",
    "\n",
    "    Returns:\n",
    "        np.array: Un array con las ganancias calculadas para cada muestra de bootstrapping.\n",
    "    \"\"\"\n",
    "    profits = []\n",
    "    \n",
    "    # Costo de desarrollo de 200 pozos (100 millones / 200 pozos = 500,000 por pozo)\n",
    "    # Asumimos que el costo total es de 100_000_000 para los num_selected_wells\n",
    "    cost_per_well_development = 100_000_000 / num_selected_wells \n",
    "    total_development_cost = 100_000_000 # Costo total fijo para los 200 pozos seleccionados\n",
    "\n",
    "    # Precio por unidad de reserva (ej. 4500 por mil barriles, o $4.5 por barril si las reservas están en barriles)\n",
    "    price_per_unit_reserve = 4500 \n",
    "\n",
    "    for _ in range(num_bootstrap_samples):\n",
    "        # 1. Seleccionar una muestra aleatoria de 'num_total_wells_to_sample' pozos con reemplazo\n",
    "        #    del conjunto de validación (los 25,000 pozos).\n",
    "        sample_of_500 = data_df.sample(n=num_total_wells_to_sample, replace=True)\n",
    "        \n",
    "        # 2. De esta muestra de 500, seleccionar los 'num_selected_wells' (200) pozos\n",
    "        #    con las reservas PREDICHAS más altas.\n",
    "        top_sample_by_prediction = sample_of_500.nlargest(num_selected_wells, columns=predicted_reserves_col)\n",
    "        \n",
    "        # 3. Sumar las reservas REALES de estos 200 pozos seleccionados.\n",
    "        total_actual_reserves_from_selected = top_sample_by_prediction[actual_reserves_col].sum()\n",
    "        \n",
    "        # 4. Aplicar la fórmula de ganancia.\n",
    "        #    Ganancia = (Volumen total de reservas reales * Precio por unidad) - Costo total de desarrollo\n",
    "        profit = total_actual_reserves_from_selected * price_per_unit_reserve - total_development_cost\n",
    "        profits.append(profit)\n",
    "        \n",
    "    return np.array(profits)\n",
    "\n",
    "# --- Ejemplo de cómo usarlo ---\n",
    "# Supongamos que tienes DataFrames para cada región:\n",
    "# validation_data_0, validation_data_1, validation_data_2\n",
    "# Y que cada DataFrame tiene columnas llamadas 'actual_reserves' y 'predicted_reserves'.\n",
    "\n",
    "# Ejemplo de creación de DataFrames de validación (simulados para demostración)\n",
    "# En tu caso, estos serían los DataFrames con los 25,000 pozos de validación.\n",
    "np.random.seed(42) # para reproducibilidad\n",
    "data_size = 25000 \n",
    "\n",
    "validation_data_0 = pd.DataFrame({\n",
    "    'actual_reserves': np.random.rand(data_size) * 200 + 50, # Reservas reales entre 50 y 250\n",
    "    'predicted_reserves': np.random.rand(data_size) * 200 + np.random.normal(0, 20, data_size) + 50 # Predicciones con algo de ruido\n",
    "})\n",
    "validation_data_1 = pd.DataFrame({\n",
    "    'actual_reserves': np.random.rand(data_size) * 220 + 40,\n",
    "    'predicted_reserves': np.random.rand(data_size) * 220 + np.random.normal(0, 25, data_size) + 40\n",
    "})\n",
    "validation_data_2 = pd.DataFrame({\n",
    "    'actual_reserves': np.random.rand(data_size) * 180 + 60,\n",
    "    'predicted_reserves': np.random.rand(data_size) * 180 + np.random.normal(0, 15, data_size) + 60\n",
    "})\n",
    "\n",
    "# Nombres de las columnas (asegúrate que coincidan con tus DataFrames)\n",
    "actual_col = 'actual_reserves'\n",
    "predicted_col = 'predicted_reserves'\n",
    "\n",
    "# Aplicar bootstrapping a cada región\n",
    "# Se asume que 'validation_data_0', 'validation_data_1', 'validation_data_2'\n",
    "# son los DataFrames con los 25,000 pozos de validación para cada región.\n",
    "bootstrap_profits_0 = bootstrap_profit(validation_data_0, actual_col, predicted_col)\n",
    "bootstrap_profits_1 = bootstrap_profit(validation_data_1, actual_col, predicted_col)\n",
    "bootstrap_profits_2 = bootstrap_profit(validation_data_2, actual_col, predicted_col)\n",
    "\n",
    "# Mostrar un resumen de las ganancias obtenidas\n",
    "print(f\"Media de ganancia - Región 0: ${bootstrap_profits_0.mean():,.2f}\")\n",
    "print(f\"Desviación estándar de ganancia - Región 0: ${bootstrap_profits_0.std():,.2f}\")\n",
    "print(f\"Intervalo de confianza del 95% - Región 0: (${np.percentile(bootstrap_profits_0, 2.5):,.2f} - ${np.percentile(bootstrap_profits_0, 97.5):,.2f})\")\n",
    "print(f\"Riesgo de pérdida (porcentaje de veces que la ganancia < 0) - Región 0: {np.mean(bootstrap_profits_0 < 0) * 100:.2f}%\\n\")\n",
    "\n",
    "print(f\"Media de ganancia - Región 1: ${bootstrap_profits_1.mean():,.2f}\")\n",
    "print(f\"Desviación estándar de ganancia - Región 1: ${bootstrap_profits_1.std():,.2f}\")\n",
    "print(f\"Intervalo de confianza del 95% - Región 1: (${np.percentile(bootstrap_profits_1, 2.5):,.2f} - ${np.percentile(bootstrap_profits_1, 97.5):,.2f})\")\n",
    "print(f\"Riesgo de pérdida - Región 1: {np.mean(bootstrap_profits_1 < 0) * 100:.2f}%\\n\")\n",
    "\n",
    "print(f\"Media de ganancia - Región 2: ${bootstrap_profits_2.mean():,.2f}\")\n",
    "print(f\"Desviación estándar de ganancia - Región 2: ${bootstrap_profits_2.std():,.2f}\")\n",
    "print(f\"Intervalo de confianza del 95% - Región 2: (${np.percentile(bootstrap_profits_2, 2.5):,.2f} - ${np.percentile(bootstrap_profits_2, 97.5):,.2f})\")\n",
    "print(f\"Riesgo de pérdida - Región 2: {np.mean(bootstrap_profits_2 < 0) * 100:.2f}%\")\n"
   ]
  },
  {
   "cell_type": "markdown",
   "metadata": {},
   "source": [
    "**Paso 5.2: Calcular estadísticas clave**\n",
    "\n",
    "\n",
    "Extraemos el beneficio promedio, el intervalo de confianza del 95%, y el riesgo de pérdida (casos donde la ganancia es negativa)."
   ]
  },
  {
   "cell_type": "code",
   "execution_count": 20,
   "metadata": {},
   "outputs": [
    {
     "name": "stdout",
     "output_type": "stream",
     "text": [
      "Región 0: Media de ganancia: $34,954,194.71, IC 95%: ($27,744,941.42, $42,186,182.84), Riesgo de pérdida: 0.00%\n",
      "Región 1: Media de ganancia: $35,327,924.72, IC 95%: ($27,273,594.32, $43,155,068.16), Riesgo de pérdida: 0.00%\n",
      "Región 2: Media de ganancia: $34,630,870.05, IC 95%: ($28,020,660.16, $41,092,965.46), Riesgo de pérdida: 0.00%\n"
     ]
    }
   ],
   "source": [
    "# Función para calcular estadísticas clave\n",
    "def calculate_statistics(profits):\n",
    "    mean_profit = profits.mean()  # Beneficio promedio\n",
    "    lower_bound = np.percentile(profits, 2.5)  # Límite inferior del intervalo de confianza del 95%\n",
    "    upper_bound = np.percentile(profits, 97.5)  # Límite superior del intervalo de confianza del 95%\n",
    "    risk_of_loss = (profits < 0).mean()  # Proporción de muestras con pérdida (ganancia negativa)\n",
    "\n",
    "    return mean_profit, lower_bound, upper_bound, risk_of_loss\n",
    "\n",
    "# Calcular estadísticas para cada región\n",
    "stats_0 = calculate_statistics(bootstrap_profits_0)\n",
    "stats_1 = calculate_statistics(bootstrap_profits_1)\n",
    "stats_2 = calculate_statistics(bootstrap_profits_2)\n",
    "\n",
    "# Mostrar resultados\n",
    "print(f\"Región 0: Media de ganancia: ${stats_0[0]:,.2f}, IC 95%: (${stats_0[1]:,.2f}, ${stats_0[2]:,.2f}), Riesgo de pérdida: {stats_0[3]:.2%}\")\n",
    "print(f\"Región 1: Media de ganancia: ${stats_1[0]:,.2f}, IC 95%: (${stats_1[1]:,.2f}, ${stats_1[2]:,.2f}), Riesgo de pérdida: {stats_1[3]:.2%}\")\n",
    "print(f\"Región 2: Media de ganancia: ${stats_2[0]:,.2f}, IC 95%: (${stats_2[1]:,.2f}, ${stats_2[2]:,.2f}), Riesgo de pérdida: {stats_2[3]:.2%}\")\n"
   ]
  },
  {
   "cell_type": "markdown",
   "metadata": {},
   "source": [
    "**Paso 5.3: Conclusión**\n",
    "\n",
    "Conclusión del Análisis con Bootstrapping\n",
    "Tras aplicar bootstrapping con 1000 simulaciones, obtuvimos el beneficio promedio, el intervalo de confianza del 95% y el riesgo de pérdida para cada región.\n",
    "\n",
    "Resultados clave:\n",
    "La región con la mayor ganancia promedio es la mejor candidata para la inversión.\n",
    "Si alguna región tiene un riesgo de pérdida superior al 2.5%-5%, es una opción más riesgosa.\n",
    "El intervalo de confianza del 95% nos indica el rango en el que es probable que se encuentren las ganancias reales.\n",
    "Decisión Final:\n",
    "Si una región tiene un beneficio alto y un bajo riesgo de pérdida, es la mejor opción para invertir. En cambio, si los beneficios son similares entre regiones, pero una tiene menos riesgo, esa sería la más segura.\n",
    "\n",
    "Con estos resultados, podemos tomar una decisión basada en datos para maximizar la rentabilidad y minimizar riesgos. "
   ]
  },
  {
   "cell_type": "markdown",
   "metadata": {},
   "source": [
    "**Propuesta de Región para el Desarrollo de Pozos Petrolíferos**\n",
    "\n",
    "Con base en los análisis realizados, la región óptima para el desarrollo de pozos petrolíferos es la que mostró:\n",
    "\n",
    "✅ Mayor ganancia promedio en el bootstrapping.\n",
    "✅ Menor riesgo de pérdida (probabilidad de obtener ganancias negativas).\n",
    "✅ Intervalo de confianza del 95% más alto, lo que sugiere estabilidad en las ganancias.\n",
    "\n",
    "¿Coincide con la elección del paso 4.3?\n",
    "Si la región seleccionada en el paso 4.3 (basado en la predicción de los 200 mejores pozos) es la misma que resultó más rentable en el análisis de riesgos del bootstrapping, entonces sí coincide. Esto validaría que nuestras predicciones eran acertadas.\n",
    "\n",
    "Sin embargo, si la región con más reservas en el paso 4.3 tiene un alto riesgo de pérdida en el bootstrapping, podría ser mejor reconsiderar la inversión y optar por una región más estable.\n",
    "\n",
    "Justificación Final\n",
    "La región seleccionada maximiza el beneficio esperado mientras minimiza el riesgo. Al tomar en cuenta tanto las predicciones iniciales como el análisis de simulaciones, podemos hacer una inversión más informada y estratégica"
   ]
  }
 ],
 "metadata": {
  "kernelspec": {
   "display_name": ".venv",
   "language": "python",
   "name": "python3"
  },
  "language_info": {
   "codemirror_mode": {
    "name": "ipython",
    "version": 3
   },
   "file_extension": ".py",
   "mimetype": "text/x-python",
   "name": "python",
   "nbconvert_exporter": "python",
   "pygments_lexer": "ipython3",
   "version": "3.12.0"
  }
 },
 "nbformat": 4,
 "nbformat_minor": 2
}
