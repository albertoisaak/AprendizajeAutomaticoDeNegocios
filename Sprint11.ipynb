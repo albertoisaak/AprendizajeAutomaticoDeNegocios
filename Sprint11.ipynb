{
 "cells": [
  {
   "cell_type": "markdown",
   "metadata": {},
   "source": [
    "Sprint 11 - Proyecto\n",
    "\n",
    "Descripción del proyecto\n",
    "Trabajas en la compañía de extracción de petróleo OilyGiant. Tu tarea es encontrar los mejores lugares donde abrir 200 pozos nuevos de petróleo.\n",
    "\n",
    "Para completar esta tarea, tendrás que realizar los siguientes pasos:\n",
    "\n",
    "Leer los archivos con los parámetros recogidos de pozos petrolíferos en la región seleccionada: calidad de crudo y volumen de reservas.\n",
    "Crear un modelo para predecir el volumen de reservas en pozos nuevos.\n",
    "Elegir los pozos petrolíferos que tienen los valores estimados más altos.\n",
    "Elegir la región con el beneficio total más alto para los pozos petrolíferos seleccionados."
   ]
  },
  {
   "cell_type": "markdown",
   "metadata": {},
   "source": [
    "Instrucciones del proyecto\n",
    "Descarga y prepara los datos. Explica el procedimiento."
   ]
  },
  {
   "cell_type": "code",
   "execution_count": 16,
   "metadata": {},
   "outputs": [
    {
     "name": "stdout",
     "output_type": "stream",
     "text": [
      "      id        f0        f1        f2     product\n",
      "0  txEyH  0.705745 -0.497823  1.221170  105.280062\n",
      "1  2acmU  1.334711 -0.340164  4.365080   73.037750\n",
      "2  409Wp  1.022732  0.151990  1.419926   85.265647\n",
      "3  iJLyR -0.032172  0.139033  2.978566  168.620776\n",
      "4  Xdl7t  1.988431  0.155413  4.751769  154.036647 \n",
      "\n",
      "      id         f0         f1        f2     product\n",
      "0  kBEdx -15.001348  -8.276000 -0.005876    3.179103\n",
      "1  62mP7  14.272088  -3.475083  0.999183   26.953261\n",
      "2  vyE1P   6.263187  -5.948386  5.001160  134.766305\n",
      "3  KcrkZ -13.081196 -11.506057  4.999415  137.945408\n",
      "4  AHL4O  12.702195  -8.147433  5.004363  134.766305 \n",
      "\n",
      "      id        f0        f1        f2     product\n",
      "0  fwXo0 -1.146987  0.963328 -0.828965   27.758673\n",
      "1  WJtFt  0.262778  0.269839 -2.530187   56.069697\n",
      "2  ovLUW  0.194587  0.289035 -5.586433   62.871910\n",
      "3  q6cA6  2.236060 -0.553760  0.930038  114.572842\n",
      "4  WPMUX -0.515993  1.716266  5.899011  149.600746 \n",
      "\n"
     ]
    }
   ],
   "source": [
    "import pandas as pd\n",
    "from sklearn.model_selection import train_test_split\n",
    "from sklearn.linear_model import LinearRegression\n",
    "from sklearn.metrics import mean_squared_error\n",
    "\n",
    "import numpy as np\n",
    "\n",
    "\n",
    "# Cargar los datos en DataFrames\n",
    "df_0 = pd.read_csv('geo_data_0.csv')\n",
    "df_1 = pd.read_csv('geo_data_1.csv')\n",
    "df_2 = pd.read_csv('geo_data_2.csv')\n",
    "\n",
    "# Mostrar las primeras filas de cada conjunto de datos\n",
    "print(df_0.head(), \"\\n\")\n",
    "print(df_1.head(), \"\\n\")\n",
    "print(df_2.head(), \"\\n\")"
   ]
  },
  {
   "cell_type": "markdown",
   "metadata": {},
   "source": [
    "2. Explorar la estructura de los datos\n",
    "Verificamos las columnas y tipos de datos con .info()"
   ]
  },
  {
   "cell_type": "code",
   "execution_count": 17,
   "metadata": {},
   "outputs": [
    {
     "name": "stdout",
     "output_type": "stream",
     "text": [
      "<class 'pandas.core.frame.DataFrame'>\n",
      "RangeIndex: 100000 entries, 0 to 99999\n",
      "Data columns (total 5 columns):\n",
      " #   Column   Non-Null Count   Dtype  \n",
      "---  ------   --------------   -----  \n",
      " 0   id       100000 non-null  object \n",
      " 1   f0       100000 non-null  float64\n",
      " 2   f1       100000 non-null  float64\n",
      " 3   f2       100000 non-null  float64\n",
      " 4   product  100000 non-null  float64\n",
      "dtypes: float64(4), object(1)\n",
      "memory usage: 3.8+ MB\n",
      "None \n",
      "\n",
      "<class 'pandas.core.frame.DataFrame'>\n",
      "RangeIndex: 100000 entries, 0 to 99999\n",
      "Data columns (total 5 columns):\n",
      " #   Column   Non-Null Count   Dtype  \n",
      "---  ------   --------------   -----  \n",
      " 0   id       100000 non-null  object \n",
      " 1   f0       100000 non-null  float64\n",
      " 2   f1       100000 non-null  float64\n",
      " 3   f2       100000 non-null  float64\n",
      " 4   product  100000 non-null  float64\n",
      "dtypes: float64(4), object(1)\n",
      "memory usage: 3.8+ MB\n",
      "None \n",
      "\n",
      "<class 'pandas.core.frame.DataFrame'>\n",
      "RangeIndex: 100000 entries, 0 to 99999\n",
      "Data columns (total 5 columns):\n",
      " #   Column   Non-Null Count   Dtype  \n",
      "---  ------   --------------   -----  \n",
      " 0   id       100000 non-null  object \n",
      " 1   f0       100000 non-null  float64\n",
      " 2   f1       100000 non-null  float64\n",
      " 3   f2       100000 non-null  float64\n",
      " 4   product  100000 non-null  float64\n",
      "dtypes: float64(4), object(1)\n",
      "memory usage: 3.8+ MB\n",
      "None \n",
      "\n"
     ]
    }
   ],
   "source": [
    "print(df_0.info(), \"\\n\")\n",
    "print(df_1.info(), \"\\n\")\n",
    "print(df_2.info(), \"\\n\")\n"
   ]
  },
  {
   "cell_type": "markdown",
   "metadata": {},
   "source": [
    "Explicación:\n",
    "\n",
    "Revisamos si todas las columnas tienen datos del tipo esperado (float64 para características numéricas y object para IDs).\n",
    "Nos aseguramos de que todas las regiones tienen el mismo formato.\n",
    "\n",
    "3. Verificar valores faltantes y duplicados\n",
    "Buscamos valores nulos y duplicados que puedan afectar el modelo.\n"
   ]
  },
  {
   "cell_type": "code",
   "execution_count": 18,
   "metadata": {},
   "outputs": [
    {
     "name": "stdout",
     "output_type": "stream",
     "text": [
      "id         0\n",
      "f0         0\n",
      "f1         0\n",
      "f2         0\n",
      "product    0\n",
      "dtype: int64 \n",
      "\n",
      "id         0\n",
      "f0         0\n",
      "f1         0\n",
      "f2         0\n",
      "product    0\n",
      "dtype: int64 \n",
      "\n",
      "id         0\n",
      "f0         0\n",
      "f1         0\n",
      "f2         0\n",
      "product    0\n",
      "dtype: int64 \n",
      "\n",
      "0 \n",
      "\n",
      "0 \n",
      "\n",
      "0 \n",
      "\n"
     ]
    }
   ],
   "source": [
    "print(df_0.isnull().sum(), \"\\n\")\n",
    "print(df_1.isnull().sum(), \"\\n\")\n",
    "print(df_2.isnull().sum(), \"\\n\")\n",
    "\n",
    "print(df_0.duplicated().sum(), \"\\n\")\n",
    "print(df_1.duplicated().sum(), \"\\n\")\n",
    "print(df_2.duplicated().sum(), \"\\n\")\n"
   ]
  },
  {
   "cell_type": "markdown",
   "metadata": {},
   "source": [
    "Explicación:\n",
    "\n",
    "Si hay valores nulos, necesitaremos decidir si eliminarlos o rellenarlos con algún valor.\n",
    "Si hay duplicados, podrían indicar errores en la recopilación de datos.\n",
    "4. Describir los datos estadísticamente\n",
    "Para entender la distribución de los valores, usamos .describe()"
   ]
  },
  {
   "cell_type": "code",
   "execution_count": 19,
   "metadata": {},
   "outputs": [
    {
     "name": "stdout",
     "output_type": "stream",
     "text": [
      "                  f0             f1             f2        product\n",
      "count  100000.000000  100000.000000  100000.000000  100000.000000\n",
      "mean        0.500419       0.250143       2.502647      92.500000\n",
      "std         0.871832       0.504433       3.248248      44.288691\n",
      "min        -1.408605      -0.848218     -12.088328       0.000000\n",
      "25%        -0.072580      -0.200881       0.287748      56.497507\n",
      "50%         0.502360       0.250252       2.515969      91.849972\n",
      "75%         1.073581       0.700646       4.715088     128.564089\n",
      "max         2.362331       1.343769      16.003790     185.364347 \n",
      "\n",
      "                  f0             f1             f2        product\n",
      "count  100000.000000  100000.000000  100000.000000  100000.000000\n",
      "mean        1.141296      -4.796579       2.494541      68.825000\n",
      "std         8.965932       5.119872       1.703572      45.944423\n",
      "min       -31.609576     -26.358598      -0.018144       0.000000\n",
      "25%        -6.298551      -8.267985       1.000021      26.953261\n",
      "50%         1.153055      -4.813172       2.011479      57.085625\n",
      "75%         8.621015      -1.332816       3.999904     107.813044\n",
      "max        29.421755      18.734063       5.019721     137.945408 \n",
      "\n",
      "                  f0             f1             f2        product\n",
      "count  100000.000000  100000.000000  100000.000000  100000.000000\n",
      "mean        0.002023      -0.002081       2.495128      95.000000\n",
      "std         1.732045       1.730417       3.473445      44.749921\n",
      "min        -8.760004      -7.084020     -11.970335       0.000000\n",
      "25%        -1.162288      -1.174820       0.130359      59.450441\n",
      "50%         0.009424      -0.009482       2.484236      94.925613\n",
      "75%         1.158535       1.163678       4.858794     130.595027\n",
      "max         7.238262       7.844801      16.739402     190.029838 \n",
      "\n"
     ]
    }
   ],
   "source": [
    "print(df_0.describe(), \"\\n\")\n",
    "print(df_1.describe(), \"\\n\")\n",
    "print(df_2.describe(), \"\\n\")\n"
   ]
  },
  {
   "cell_type": "markdown",
   "metadata": {},
   "source": [
    "Explicación:\n",
    "\n",
    "Nos ayuda a ver los valores mínimos, máximos, media y desviación estándar.\n",
    "Analizaremos si los datos tienen valores extremos que puedan afectar el modelo.\n",
    "Conclusión\n",
    "Después de este análisis, podremos determinar:\n",
    "✅ Si los datos están completos y listos para usar.\n",
    "✅ Si hay problemas como valores nulos o duplicados.\n",
    "✅ Cómo se distribuyen las variables en cada región.\n"
   ]
  },
  {
   "cell_type": "markdown",
   "metadata": {},
   "source": [
    "Entrena y prueba el modelo para cada región en geo_data_0.csv:\n",
    "\n",
    "Divide los datos en un conjunto de entrenamiento y un conjunto de validación en una proporción de 75:25\n",
    "2.Entrena un modelo de regresión lineal.\n",
    "3.Entrena un modelo de regresión lineal.\n",
    "4.Hace predicciones en el conjunto de validación.\n",
    "5.Calcula y muestra el RMSE y el volumen medio de reservas predicho."
   ]
  },
  {
   "cell_type": "code",
   "execution_count": 20,
   "metadata": {},
   "outputs": [
    {
     "name": "stdout",
     "output_type": "stream",
     "text": [
      "\n",
      "Región 0\n",
      "RMSE del modelo: 37.76\n",
      "Volumen medio de reservas predicho: 92.40\n",
      "\n",
      "Región 1\n",
      "RMSE del modelo: 0.89\n",
      "Volumen medio de reservas predicho: 68.71\n",
      "\n",
      "Región 2\n",
      "RMSE del modelo: 40.15\n",
      "Volumen medio de reservas predicho: 94.77\n"
     ]
    }
   ],
   "source": [
    "\n",
    "\n",
    "# Función para entrenar el modelo y calcular métricas\n",
    "def train_and_evaluate(df, region_name):\n",
    "    print(f\"\\nRegión {region_name}\")\n",
    "    \n",
    "    # Separar características y variable objetivo\n",
    "    features = df[['f0', 'f1', 'f2']]\n",
    "    target = df['product']\n",
    "\n",
    "    # Dividir los datos en entrenamiento (75%) y validación (25%)\n",
    "    features_train, features_valid, target_train, target_valid = train_test_split(\n",
    "        features, target, test_size=0.25, random_state=42\n",
    "    )\n",
    "\n",
    "    # Entrenar el modelo de regresión lineal\n",
    "    model = LinearRegression()\n",
    "    model.fit(features_train, target_train)\n",
    "\n",
    "    # Hacer predicciones en el conjunto de validación\n",
    "    predictions = model.predict(features_valid)\n",
    "\n",
    "    # Calcular RMSE\n",
    "    mse = mean_squared_error(target_valid, predictions)\n",
    "    rmse = np.sqrt(mse)\n",
    "\n",
    "    # Mostrar resultados\n",
    "    print(f\"RMSE del modelo: {rmse:.2f}\")\n",
    "    print(f\"Volumen medio de reservas predicho: {predictions.mean():.2f}\")\n",
    "    \n",
    "    return model, predictions, target_valid  # Retornar modelo y predicciones para su uso posterior\n",
    "\n",
    "# Aplicar a cada región\n",
    "model_0, predictions_0, target_valid_0 = train_and_evaluate(df_0, \"0\")\n",
    "model_1, predictions_1, target_valid_1 = train_and_evaluate(df_1, \"1\")\n",
    "model_2, predictions_2, target_valid_2 = train_and_evaluate(df_2, \"2\")\n"
   ]
  },
  {
   "cell_type": "markdown",
   "metadata": {},
   "source": [
    "Expliacion \n",
    "\n",
    " Calcular el error cuadrático medio (MSE)\n",
    "\n",
    "mean_squared_error(y_real, y_pred) calcula el error cuadrático medio (MSE), que mide qué tan lejos están las predicciones de los valores reales.\n",
    "\n",
    "2️⃣ Obtener la raíz del error cuadrático medio (RMSE)\n",
    "\n",
    "La raíz cuadrada del MSE nos da el error cuadrático medio raíz (RMSE).\n",
    "\n",
    "\n",
    "3️⃣ Mostrar resultados\n",
    "\n",
    "rmse:.2f formatea el número con 2 decimales.\n",
    "predictions.mean() nos da el promedio de reservas predichas, lo que nos ayuda a entender si el modelo sobreestima o subestima el valor real.\n",
    "\n"
   ]
  },
  {
   "cell_type": "markdown",
   "metadata": {},
   "source": [
    "**3 Preparate para el calculo de ganancias**\n",
    "\n",
    "\n",
    "**Paso 3.1: Almacenar valores clave**\n",
    "\n",
    "Definimos las variables necesarias:"
   ]
  },
  {
   "cell_type": "code",
   "execution_count": 21,
   "metadata": {},
   "outputs": [
    {
     "name": "stdout",
     "output_type": "stream",
     "text": [
      "Cada pozo debe producir al menos 111.1 unidades (miles de barriles) para evitar pérdidas.\n"
     ]
    }
   ],
   "source": [
    "# Costo total de inversión en millones de dólares\n",
    "total_budget = 100_000_000  \n",
    "\n",
    "# Número de pozos seleccionados\n",
    "num_selected_wells = 200  \n",
    "\n",
    "# Precio por barril en dólares\n",
    "price_per_barrel = 4.5  \n",
    "\n",
    "# Ingreso por cada unidad (miles de barriles)\n",
    "revenue_per_unit = price_per_barrel * 1000  \n",
    "\n",
    "# Punto de equilibrio por pozo\n",
    "break_even_units = total_budget / (num_selected_wells * revenue_per_unit) \n",
    "\n",
    "print(f\"Cada pozo debe producir al menos {break_even_units:.1f} unidades (miles de barriles) para evitar pérdidas.\")\n"
   ]
  },
  {
   "cell_type": "markdown",
   "metadata": {},
   "source": [
    "**Paso 3.2: Comparación con la cantidad media de reservas**\n",
    "\n",
    "Cada pozo debe generar 111.1 unidades para evitar pérdidas.\n",
    "El volumen medio de reservas en la región 0 nos dirá si en promedio cada pozo está por encima o por debajo de este umbral.\n",
    "\n",
    "\n",
    "Si el valor medio de reservas en la región es menor a 111.1 unidades, perforar al azar sería una estrategia arriesgada. En este caso, la clave será seleccionar solo los mejores pozos."
   ]
  },
  {
   "cell_type": "code",
   "execution_count": 22,
   "metadata": {},
   "outputs": [
    {
     "name": "stdout",
     "output_type": "stream",
     "text": [
      "Media de reservas - Región 0: 92.5 unidades\n",
      "Media de reservas - Región 1: 68.8 unidades\n",
      "Media de reservas - Región 2: 95.0 unidades\n"
     ]
    }
   ],
   "source": [
    "# Calcular la media de reservas en cada región\n",
    "mean_reserves_0 = df_0['product'].mean()\n",
    "mean_reserves_1 = df_1['product'].mean()\n",
    "mean_reserves_2 = df_2['product'].mean()\n",
    "\n",
    "print(f\"Media de reservas - Región 0: {mean_reserves_0:.1f} unidades\")\n",
    "print(f\"Media de reservas - Región 1: {mean_reserves_1:.1f} unidades\")\n",
    "print(f\"Media de reservas - Región 2: {mean_reserves_2:.1f} unidades\")\n"
   ]
  },
  {
   "cell_type": "markdown",
   "metadata": {},
   "source": [
    "**3.3 Conclusiones sobre la preparación**\n",
    "\n",
    "A partir de estos valores, podemos analizar si las regiones tienen suficiente producción promedio para cubrir el umbral de rentabilidad. Si la media de reservas de una región es menor que el punto de equilibrio, entonces dependeremos de seleccionar solo los mejores pozos."
   ]
  },
  {
   "cell_type": "markdown",
   "metadata": {},
   "source": [
    "**Paso 4.1: Seleccionar los 200 pozos con las predicciones más altas**\n",
    "\n",
    "Ordenamos las predicciones y seleccionamos los 200 pozos con el mayor valor predicho."
   ]
  },
  {
   "cell_type": "code",
   "execution_count": 23,
   "metadata": {},
   "outputs": [
    {
     "name": "stdout",
     "output_type": "stream",
     "text": [
      "Volumen medio de reservas en los mejores 200 pozos - Región 0: 148.43\n",
      "Volumen medio de reservas en los mejores 200 pozos - Región 1: 137.95\n",
      "Volumen medio de reservas en los mejores 200 pozos - Región 2: 139.98\n"
     ]
    }
   ],
   "source": [
    "\n",
    "\n",
    "num_selected_wells = 200  # Número de pozos a seleccionar\n",
    "\n",
    "# Dividir los datos en entrenamiento (75%) y validación (25%) para cada región\n",
    "features_train_0, features_valid_0, target_train_0, target_valid_0 = train_test_split(\n",
    "    df_0[['f0', 'f1', 'f2']], df_0['product'], test_size=0.25, random_state=42\n",
    ")\n",
    "features_train_1, features_valid_1, target_train_1, target_valid_1 = train_test_split(\n",
    "    df_1[['f0', 'f1', 'f2']], df_1['product'], test_size=0.25, random_state=42\n",
    ")\n",
    "features_train_2, features_valid_2, target_train_2, target_valid_2 = train_test_split(\n",
    "    df_2[['f0', 'f1', 'f2']], df_2['product'], test_size=0.25, random_state=42\n",
    ")\n",
    "\n",
    "# Entrenar modelos de regresión lineal para cada región\n",
    "model_0 = LinearRegression()\n",
    "model_0.fit(features_train_0, target_train_0)\n",
    "\n",
    "model_1 = LinearRegression()\n",
    "model_1.fit(features_train_1, target_train_1)\n",
    "\n",
    "model_2 = LinearRegression()\n",
    "model_2.fit(features_train_2, target_train_2)\n",
    "\n",
    "# Función para seleccionar los 200 mejores pozos por predicción\n",
    "def select_top_wells(features, target, model):\n",
    "    predictions = model.predict(features)\n",
    "    top_indices = np.argsort(predictions)[-num_selected_wells:]  # Seleccionar los 200 mejores\n",
    "    return target.iloc[top_indices], predictions[top_indices]\n",
    "\n",
    "# Seleccionar los mejores pozos en cada región\n",
    "top_target_0, top_predictions_0 = select_top_wells(features_valid_0, target_valid_0, model_0)\n",
    "top_target_1, top_predictions_1 = select_top_wells(features_valid_1, target_valid_1, model_1)\n",
    "top_target_2, top_predictions_2 = select_top_wells(features_valid_2, target_valid_2, model_2)\n",
    "\n",
    "# Mostrar información de los 200 mejores pozos por región\n",
    "print(f\"Volumen medio de reservas en los mejores 200 pozos - Región 0: {top_target_0.mean():.2f}\")\n",
    "print(f\"Volumen medio de reservas en los mejores 200 pozos - Región 1: {top_target_1.mean():.2f}\")\n",
    "print(f\"Volumen medio de reservas en los mejores 200 pozos - Región 2: {top_target_2.mean():.2f}\")\n"
   ]
  },
  {
   "cell_type": "markdown",
   "metadata": {},
   "source": [
    "**Paso 4.2: Calcular el volumen objetivo de reservas**\n",
    "\n",
    "Sumamos las reservas reales (actual) de los 200 mejores pozos para ver cuántas reservas reales tienen."
   ]
  },
  {
   "cell_type": "code",
   "execution_count": 24,
   "metadata": {},
   "outputs": [
    {
     "name": "stdout",
     "output_type": "stream",
     "text": [
      "Volumen total de reservas en los 200 mejores pozos - Región 0: 29686.98\n",
      "Volumen total de reservas en los 200 mejores pozos - Región 1: 27589.08\n",
      "Volumen total de reservas en los 200 mejores pozos - Región 2: 27996.83\n"
     ]
    }
   ],
   "source": [
    "# Calcular el volumen total de reservas en los 200 mejores pozos de cada región\n",
    "total_reserves_0 = top_target_0.sum()\n",
    "total_reserves_1 = top_target_1.sum()\n",
    "total_reserves_2 = top_target_2.sum()\n",
    "\n",
    "# Mostrar los resultados\n",
    "print(f\"Volumen total de reservas en los 200 mejores pozos - Región 0: {total_reserves_0:.2f}\")\n",
    "print(f\"Volumen total de reservas en los 200 mejores pozos - Región 1: {total_reserves_1:.2f}\")\n",
    "print(f\"Volumen total de reservas en los 200 mejores pozos - Región 2: {total_reserves_2:.2f}\")\n"
   ]
  },
  {
   "cell_type": "markdown",
   "metadata": {},
   "source": [
    "**Paso 4.3: Calcular la ganancia potencial**\n",
    "\n",
    "\n",
    "Utilizamos la fórmula:\n",
    "\n",
    "Ganancia=Total de reservas×4500−100,000,000\n"
   ]
  },
  {
   "cell_type": "code",
   "execution_count": 25,
   "metadata": {},
   "outputs": [
    {
     "name": "stdout",
     "output_type": "stream",
     "text": [
      "Ganancia potencial - Región 0: $33,591,411.14\n",
      "Ganancia potencial - Región 1: $24,150,866.97\n",
      "Ganancia potencial - Región 2: $25,985,717.59\n"
     ]
    }
   ],
   "source": [
    "# Definir constantes\n",
    "REVENUE_PER_UNIT = 4500  # Ingreso por unidad de reserva\n",
    "INVESTMENT = 100_000_000  # Inversión total en dólares\n",
    "\n",
    "# Calcular la ganancia potencial en cada región\n",
    "profit_0 = total_reserves_0 * REVENUE_PER_UNIT - INVESTMENT\n",
    "profit_1 = total_reserves_1 * REVENUE_PER_UNIT - INVESTMENT\n",
    "profit_2 = total_reserves_2 * REVENUE_PER_UNIT - INVESTMENT\n",
    "\n",
    "# Mostrar los resultados\n",
    "print(f\"Ganancia potencial - Región 0: ${profit_0:,.2f}\")\n",
    "print(f\"Ganancia potencial - Región 1: ${profit_1:,.2f}\")\n",
    "print(f\"Ganancia potencial - Región 2: ${profit_2:,.2f}\")\n"
   ]
  },
  {
   "cell_type": "markdown",
   "metadata": {},
   "source": [
    "**Conclusión**\n",
    "\n",
    "Volumen objetivo de reservas:\n",
    "\n",
    "Al sumar las reservas reales de los 200 mejores pozos en cada región, observamos diferencias significativas en la capacidad productiva de cada zona.\n",
    "Ganancia potencial:\n",
    "\n",
    "Aplicando la fórmula de ganancias, encontramos que algunas regiones pueden generar un margen positivo, mientras que otras podrían no ser rentables.\n",
    "Si una región tiene un beneficio negativo, significa que la inversión inicial de $100M no se recupera.\n",
    "La región con la mayor ganancia potencial es la que tiene el mayor total de reservas entre sus 200 mejores pozos.\n",
    "Recomendación:\n",
    "\n",
    "La región con la mayor ganancia positiva es la opción más atractiva para la inversión en pozos petroleros.\n",
    "Si dos o más regiones tienen beneficios similares, es importante evaluar otros factores como riesgo de pérdidas, estabilidad de las predicciones y variabilidad en las reservas antes de tomar una decisión final."
   ]
  },
  {
   "cell_type": "markdown",
   "metadata": {},
   "source": [
    "**Paso 5.1: Aplicar Bootstrapping**\n",
    "\n",
    "Generamos 1000 muestras aleatorias con reemplazo y calculamos la ganancia para cada una."
   ]
  },
  {
   "cell_type": "code",
   "execution_count": 26,
   "metadata": {},
   "outputs": [
    {
     "name": "stdout",
     "output_type": "stream",
     "text": [
      "Media de ganancia - Región 0: $52,497,290.00\n",
      "Media de ganancia - Región 1: $24,150,866.97\n",
      "Media de ganancia - Región 2: $49,312,422.99\n"
     ]
    }
   ],
   "source": [
    "\n",
    "# Definir la cantidad de simulaciones\n",
    "num_bootstrap_samples = 1000\n",
    "\n",
    "# Función para calcular la ganancia con bootstrapping\n",
    "def bootstrap_profit(target, num_samples=500, num_selected_wells=200):\n",
    "    profits = []\n",
    "    \n",
    "    for _ in range(num_bootstrap_samples):\n",
    "        sample = target.sample(n=num_samples, replace=True)  # Seleccionar una muestra aleatoria con reemplazo\n",
    "        top_sample = sample.nlargest(num_selected_wells)  # Seleccionar los 200 mejores pozos\n",
    "        total_reserves = top_sample.sum()  # Sumar las reservas reales\n",
    "        profit = total_reserves * 4500 - 100_000_000  # Aplicar la fórmula de ganancia\n",
    "        profits.append(profit)\n",
    "    \n",
    "    return np.array(profits)\n",
    "\n",
    "# Aplicar bootstrapping a cada región\n",
    "bootstrap_profits_0 = bootstrap_profit(top_target_0)\n",
    "bootstrap_profits_1 = bootstrap_profit(top_target_1)\n",
    "bootstrap_profits_2 = bootstrap_profit(top_target_2)\n",
    "\n",
    "# Mostrar un resumen de las ganancias obtenidas\n",
    "print(f\"Media de ganancia - Región 0: ${bootstrap_profits_0.mean():,.2f}\")\n",
    "print(f\"Media de ganancia - Región 1: ${bootstrap_profits_1.mean():,.2f}\")\n",
    "print(f\"Media de ganancia - Región 2: ${bootstrap_profits_2.mean():,.2f}\")\n"
   ]
  },
  {
   "cell_type": "markdown",
   "metadata": {},
   "source": [
    "**Paso 5.2: Calcular estadísticas clave**\n",
    "\n",
    "\n",
    "Extraemos el beneficio promedio, el intervalo de confianza del 95%, y el riesgo de pérdida (casos donde la ganancia es negativa)."
   ]
  },
  {
   "cell_type": "code",
   "execution_count": 27,
   "metadata": {},
   "outputs": [
    {
     "name": "stdout",
     "output_type": "stream",
     "text": [
      "Región 0: Media de ganancia: $52,497,290.00, IC 95%: ($50,894,980.98, $53,967,363.90), Riesgo de pérdida: 0.00%\n",
      "Región 1: Media de ganancia: $24,150,866.97, IC 95%: ($24,150,866.97, $24,150,866.97), Riesgo de pérdida: 0.00%\n",
      "Región 2: Media de ganancia: $49,312,422.99, IC 95%: ($47,435,999.69, $51,254,532.78), Riesgo de pérdida: 0.00%\n"
     ]
    }
   ],
   "source": [
    "# Función para calcular estadísticas clave\n",
    "def calculate_statistics(profits):\n",
    "    mean_profit = profits.mean()  # Beneficio promedio\n",
    "    lower_bound = np.percentile(profits, 2.5)  # Límite inferior del intervalo de confianza del 95%\n",
    "    upper_bound = np.percentile(profits, 97.5)  # Límite superior del intervalo de confianza del 95%\n",
    "    risk_of_loss = (profits < 0).mean()  # Proporción de muestras con pérdida (ganancia negativa)\n",
    "\n",
    "    return mean_profit, lower_bound, upper_bound, risk_of_loss\n",
    "\n",
    "# Calcular estadísticas para cada región\n",
    "stats_0 = calculate_statistics(bootstrap_profits_0)\n",
    "stats_1 = calculate_statistics(bootstrap_profits_1)\n",
    "stats_2 = calculate_statistics(bootstrap_profits_2)\n",
    "\n",
    "# Mostrar resultados\n",
    "print(f\"Región 0: Media de ganancia: ${stats_0[0]:,.2f}, IC 95%: (${stats_0[1]:,.2f}, ${stats_0[2]:,.2f}), Riesgo de pérdida: {stats_0[3]:.2%}\")\n",
    "print(f\"Región 1: Media de ganancia: ${stats_1[0]:,.2f}, IC 95%: (${stats_1[1]:,.2f}, ${stats_1[2]:,.2f}), Riesgo de pérdida: {stats_1[3]:.2%}\")\n",
    "print(f\"Región 2: Media de ganancia: ${stats_2[0]:,.2f}, IC 95%: (${stats_2[1]:,.2f}, ${stats_2[2]:,.2f}), Riesgo de pérdida: {stats_2[3]:.2%}\")\n"
   ]
  },
  {
   "cell_type": "markdown",
   "metadata": {},
   "source": [
    "**Paso 5.3: Conclusión**\n",
    "\n",
    "Conclusión del Análisis con Bootstrapping\n",
    "Tras aplicar bootstrapping con 1000 simulaciones, obtuvimos el beneficio promedio, el intervalo de confianza del 95% y el riesgo de pérdida para cada región.\n",
    "\n",
    "Resultados clave:\n",
    "La región con la mayor ganancia promedio es la mejor candidata para la inversión.\n",
    "Si alguna región tiene un riesgo de pérdida superior al 2.5%-5%, es una opción más riesgosa.\n",
    "El intervalo de confianza del 95% nos indica el rango en el que es probable que se encuentren las ganancias reales.\n",
    "Decisión Final:\n",
    "Si una región tiene un beneficio alto y un bajo riesgo de pérdida, es la mejor opción para invertir. En cambio, si los beneficios son similares entre regiones, pero una tiene menos riesgo, esa sería la más segura.\n",
    "\n",
    "Con estos resultados, podemos tomar una decisión basada en datos para maximizar la rentabilidad y minimizar riesgos. "
   ]
  },
  {
   "cell_type": "markdown",
   "metadata": {},
   "source": [
    "**Propuesta de Región para el Desarrollo de Pozos Petrolíferos**\n",
    "\n",
    "Con base en los análisis realizados, la región óptima para el desarrollo de pozos petrolíferos es la que mostró:\n",
    "\n",
    "✅ Mayor ganancia promedio en el bootstrapping.\n",
    "✅ Menor riesgo de pérdida (probabilidad de obtener ganancias negativas).\n",
    "✅ Intervalo de confianza del 95% más alto, lo que sugiere estabilidad en las ganancias.\n",
    "\n",
    "¿Coincide con la elección del paso 4.3?\n",
    "Si la región seleccionada en el paso 4.3 (basado en la predicción de los 200 mejores pozos) es la misma que resultó más rentable en el análisis de riesgos del bootstrapping, entonces sí coincide. Esto validaría que nuestras predicciones eran acertadas.\n",
    "\n",
    "Sin embargo, si la región con más reservas en el paso 4.3 tiene un alto riesgo de pérdida en el bootstrapping, podría ser mejor reconsiderar la inversión y optar por una región más estable.\n",
    "\n",
    "Justificación Final\n",
    "La región seleccionada maximiza el beneficio esperado mientras minimiza el riesgo. Al tomar en cuenta tanto las predicciones iniciales como el análisis de simulaciones, podemos hacer una inversión más informada y estratégica"
   ]
  }
 ],
 "metadata": {
  "kernelspec": {
   "display_name": "Python 3",
   "language": "python",
   "name": "python3"
  },
  "language_info": {
   "codemirror_mode": {
    "name": "ipython",
    "version": 3
   },
   "file_extension": ".py",
   "mimetype": "text/x-python",
   "name": "python",
   "nbconvert_exporter": "python",
   "pygments_lexer": "ipython3",
   "version": "3.12.5"
  }
 },
 "nbformat": 4,
 "nbformat_minor": 2
}
